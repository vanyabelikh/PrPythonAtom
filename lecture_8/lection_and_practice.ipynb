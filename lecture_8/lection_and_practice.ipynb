{
 "cells": [
  {
   "cell_type": "code",
   "execution_count": null,
   "metadata": {
    "collapsed": true
   },
   "outputs": [],
   "source": []
  },
  {
   "cell_type": "code",
   "execution_count": 38,
   "metadata": {
    "ExecuteTime": {
     "end_time": "2018-11-21T11:36:27.561488Z",
     "start_time": "2018-11-21T11:36:27.558236Z"
    },
    "collapsed": true
   },
   "outputs": [],
   "source": [
    "from threading import Thread"
   ]
  },
  {
   "cell_type": "code",
   "execution_count": 46,
   "metadata": {
    "ExecuteTime": {
     "end_time": "2018-11-21T11:39:25.130591Z",
     "start_time": "2018-11-21T11:39:25.117119Z"
    },
    "collapsed": true
   },
   "outputs": [],
   "source": [
    "import time\n",
    "\n",
    "def countdown(n):\n",
    "    for i in range(n):\n",
    "        print(n - i - 1, 'left')\n",
    "        time.sleep(1)\n",
    "        \n",
    "t = Thread(target=countdown, args=(3, ))"
   ]
  },
  {
   "cell_type": "code",
   "execution_count": 47,
   "metadata": {
    "ExecuteTime": {
     "end_time": "2018-11-21T11:39:26.705532Z",
     "start_time": "2018-11-21T11:39:26.188834Z"
    }
   },
   "outputs": [
    {
     "name": "stdout",
     "output_type": "stream",
     "text": [
      "2asdas\n",
      " left\n",
      "sdasd\n",
      "1 left\n",
      "0 left\n"
     ]
    }
   ],
   "source": [
    "t.start()\n",
    "print('asdas')\n",
    "time.sleep(0.5)\n",
    "print('sdasd')"
   ]
  },
  {
   "cell_type": "markdown",
   "metadata": {},
   "source": [
    "> системные ресурсы разделяются - типа дескриптора i/o - от одного процесса "
   ]
  },
  {
   "cell_type": "markdown",
   "metadata": {
    "ExecuteTime": {
     "end_time": "2018-11-21T11:41:43.717581Z",
     "start_time": "2018-11-21T11:41:43.704482Z"
    }
   },
   "source": [
    "> Как дождаться выполнения потока?"
   ]
  },
  {
   "cell_type": "code",
   "execution_count": 51,
   "metadata": {
    "ExecuteTime": {
     "end_time": "2018-11-21T11:42:40.315864Z",
     "start_time": "2018-11-21T11:42:39.797987Z"
    }
   },
   "outputs": [
    {
     "name": "stdout",
     "output_type": "stream",
     "text": [
      "[4, 3, 2, 1, 0]\n"
     ]
    }
   ],
   "source": [
    "some_list = []\n",
    "\n",
    "def appender(n):\n",
    "    for i in range(n):\n",
    "        some_list.append(n - i - 1)\n",
    "        time.sleep(0.1)\n",
    "        \n",
    "t = Thread(target=appender, args=(5, ))\n",
    "\n",
    "t.start()\n",
    "t.join()\n",
    "print(some_list)"
   ]
  },
  {
   "cell_type": "markdown",
   "metadata": {},
   "source": [
    "_______-"
   ]
  },
  {
   "cell_type": "code",
   "execution_count": 57,
   "metadata": {
    "ExecuteTime": {
     "end_time": "2018-11-21T11:45:45.035078Z",
     "start_time": "2018-11-21T11:45:45.016812Z"
    },
    "collapsed": true
   },
   "outputs": [],
   "source": [
    "some_list = []\n",
    "\n",
    "def appender(n):\n",
    "    for i in range(n):\n",
    "        some_list.append(n - i - 1)\n",
    "        time.sleep(0.2)\n",
    "        \n",
    "t = Thread(target=appender, args=(5, ))\n",
    "t1 = Thread(target=appender, args=(5, ))"
   ]
  },
  {
   "cell_type": "code",
   "execution_count": 58,
   "metadata": {
    "ExecuteTime": {
     "end_time": "2018-11-21T11:45:46.601285Z",
     "start_time": "2018-11-21T11:45:45.584626Z"
    }
   },
   "outputs": [
    {
     "name": "stdout",
     "output_type": "stream",
     "text": [
      "[4, 4, 3, 3, 2, 2, 1, 1, 0, 0]\n",
      "CPU times: user 0 ns, sys: 2.57 ms, total: 2.57 ms\n",
      "Wall time: 1 s\n"
     ]
    }
   ],
   "source": [
    "%%time\n",
    "\n",
    "t.start()\n",
    "t1.start()\n",
    "t.join()\n",
    "t1.join()\n",
    "\n",
    "print(some_list)"
   ]
  },
  {
   "cell_type": "code",
   "execution_count": null,
   "metadata": {
    "collapsed": true
   },
   "outputs": [],
   "source": []
  },
  {
   "cell_type": "markdown",
   "metadata": {},
   "source": [
    "_______"
   ]
  },
  {
   "cell_type": "code",
   "execution_count": 70,
   "metadata": {
    "ExecuteTime": {
     "end_time": "2018-11-21T11:52:14.873120Z",
     "start_time": "2018-11-21T11:52:14.851965Z"
    },
    "collapsed": true
   },
   "outputs": [],
   "source": [
    "def sleeper(n):\n",
    "    for i in range(n):\n",
    "        time.sleep(2.2)\n",
    "        \n",
    "t = Thread(target=sleeper, args=(5, ), daemon=True)"
   ]
  },
  {
   "cell_type": "code",
   "execution_count": 71,
   "metadata": {
    "ExecuteTime": {
     "end_time": "2018-11-21T11:52:15.008120Z",
     "start_time": "2018-11-21T11:52:15.003222Z"
    }
   },
   "outputs": [
    {
     "data": {
      "text/plain": [
       "True"
      ]
     },
     "execution_count": 71,
     "metadata": {},
     "output_type": "execute_result"
    }
   ],
   "source": [
    "t.start()\n",
    "t.isAlive()"
   ]
  },
  {
   "cell_type": "code",
   "execution_count": 73,
   "metadata": {
    "ExecuteTime": {
     "end_time": "2018-11-21T11:52:15.267322Z",
     "start_time": "2018-11-21T11:52:15.262891Z"
    }
   },
   "outputs": [
    {
     "data": {
      "text/plain": [
       "True"
      ]
     },
     "execution_count": 73,
     "metadata": {},
     "output_type": "execute_result"
    }
   ],
   "source": [
    "t.daemon"
   ]
  },
  {
   "cell_type": "code",
   "execution_count": 74,
   "metadata": {
    "ExecuteTime": {
     "end_time": "2018-11-21T11:52:26.013887Z",
     "start_time": "2018-11-21T11:52:15.393201Z"
    },
    "collapsed": true
   },
   "outputs": [],
   "source": [
    "t.join() "
   ]
  },
  {
   "cell_type": "code",
   "execution_count": 75,
   "metadata": {
    "ExecuteTime": {
     "end_time": "2018-11-21T11:52:38.062541Z",
     "start_time": "2018-11-21T11:52:38.053031Z"
    }
   },
   "outputs": [
    {
     "data": {
      "text/plain": [
       "False"
      ]
     },
     "execution_count": 75,
     "metadata": {},
     "output_type": "execute_result"
    }
   ],
   "source": [
    "t.isAlive()"
   ]
  },
  {
   "cell_type": "markdown",
   "metadata": {},
   "source": [
    "> при завершении работы интерпретатора потоки демоны должны автоматически быть уничтожены. \n",
    "\n",
    "> для обычных тредов - это не так"
   ]
  },
  {
   "cell_type": "code",
   "execution_count": null,
   "metadata": {
    "collapsed": true
   },
   "outputs": [],
   "source": []
  },
  {
   "cell_type": "code",
   "execution_count": 123,
   "metadata": {
    "ExecuteTime": {
     "end_time": "2018-11-21T12:15:01.977317Z",
     "start_time": "2018-11-21T12:15:01.972093Z"
    },
    "collapsed": true
   },
   "outputs": [],
   "source": [
    "from multiprocessing import Process"
   ]
  },
  {
   "cell_type": "code",
   "execution_count": 128,
   "metadata": {
    "ExecuteTime": {
     "end_time": "2018-11-21T12:16:39.366857Z",
     "start_time": "2018-11-21T12:16:39.344762Z"
    },
    "collapsed": true
   },
   "outputs": [],
   "source": [
    "some_list = []\n",
    "\n",
    "def appender(n):\n",
    "    print(type(some_list))\n",
    "    for i in range(n):\n",
    "        some_list.append(n - i - 1)\n",
    "        time.sleep(0.2)\n",
    "    return some_list    \n",
    "    \n",
    "t = Process(target=appender, args=(5, ))\n",
    "t1 = Process(target=appender, args=(5, ))"
   ]
  },
  {
   "cell_type": "code",
   "execution_count": 129,
   "metadata": {
    "ExecuteTime": {
     "end_time": "2018-11-21T12:16:41.344866Z",
     "start_time": "2018-11-21T12:16:40.179907Z"
    }
   },
   "outputs": [
    {
     "name": "stdout",
     "output_type": "stream",
     "text": [
      "<class 'type'>\n",
      "<class 'type'>\n"
     ]
    }
   ],
   "source": [
    "t.start()\n",
    "t1.start()\n",
    "\n",
    "t.join()\n",
    "t1.join()"
   ]
  },
  {
   "cell_type": "code",
   "execution_count": 130,
   "metadata": {
    "ExecuteTime": {
     "end_time": "2018-11-21T12:16:41.353089Z",
     "start_time": "2018-11-21T12:16:41.348446Z"
    }
   },
   "outputs": [
    {
     "data": {
      "text/plain": [
       "False"
      ]
     },
     "execution_count": 130,
     "metadata": {},
     "output_type": "execute_result"
    }
   ],
   "source": [
    "t.is_alive()"
   ]
  },
  {
   "cell_type": "code",
   "execution_count": 131,
   "metadata": {
    "ExecuteTime": {
     "end_time": "2018-11-21T12:16:41.808422Z",
     "start_time": "2018-11-21T12:16:41.800082Z"
    }
   },
   "outputs": [
    {
     "data": {
      "text/plain": [
       "[]"
      ]
     },
     "execution_count": 131,
     "metadata": {},
     "output_type": "execute_result"
    }
   ],
   "source": [
    "some_list"
   ]
  },
  {
   "cell_type": "markdown",
   "metadata": {},
   "source": [
    "Круто. Умеем создавать свои потоки и процессы."
   ]
  },
  {
   "cell_type": "code",
   "execution_count": null,
   "metadata": {
    "collapsed": true
   },
   "outputs": [],
   "source": []
  },
  {
   "cell_type": "code",
   "execution_count": null,
   "metadata": {
    "collapsed": true
   },
   "outputs": [],
   "source": []
  },
  {
   "cell_type": "code",
   "execution_count": 136,
   "metadata": {
    "ExecuteTime": {
     "end_time": "2018-11-21T12:40:18.161172Z",
     "start_time": "2018-11-21T12:40:18.134046Z"
    },
    "collapsed": true
   },
   "outputs": [
    {
     "name": "stdout",
     "output_type": "stream",
     "text": [
      "[249, 248, 247, 246, 245, 244, 243, 242, 241, 240, 239, 238, 237, 236, 235, 234, 233, 232, 231, 230, 229, 228, 227, 226, 225, 224, 223, 222, 221, 220, 219, 218, 217, 216, 215, 214, 213, 212, 211, 210, 209, 208, 207, 206, 205, 204, 203, 202, 201, 200, 199, 198, 197, 196, 195, 194, 193, 192, 191, 190, 189, 188, 187, 186, 185, 184, 183, 182, 181, 180, 179, 178, 177, 176, 175, 174, 173, 172, 171, 170, 169, 168, 167, 166, 165, 164, 163, 162, 161, 160, 159, 158, 157, 156, 155, 154, 153, 152, 151, 150, 149, 148, 147, 146, 145, 144, 143, 142, 141, 140, 139, 138, 137, 136, 135, 134, 133, 132, 131, 130, 129, 128, 127, 126, 125, 124, 123, 122, 121, 120, 119, 118, 117, 116, 115, 114, 113, 112, 111, 110, 109, 108, 107, 106, 105, 104, 103, 102, 101, 100, 99, 98, 97, 96, 95, 94, 93, 92, 91, 90, 89, 88, 87, 86, 85, 84, 83, 82, 81, 80, 79, 78, 77, 76, 75, 74, 73, 72, 71, 70, 69, 68, 67, 66, 65, 64, 63, 62, 61, 60, 59, 58, 57, 56, 55, 54, 53, 52, 51, 50, 49, 48, 47, 46, 45, 44, 43, 42, 41, 40, 39, 38, 37, 36, 35, 34, 33, 32, 31, 30, 29, 28, 27, 26, 25, 24, 23, 22, 21, 20, 19, 18, 17, 16, 15, 14, 13, 12, 11, 10, 9, 8, 7, 6, 5, 4, 3, 2, 1, 0, 249, 248, 247, 246, 245, 244, 243, 242, 241, 240, 239, 238, 237, 236, 235, 234, 233, 232, 231, 230, 229, 228, 227, 226, 225, 224, 223, 222, 221, 220, 219, 218, 217, 216, 215, 214, 213, 212, 211, 210, 209, 208, 207, 206, 205, 204, 203, 202, 201, 200, 199, 198, 197, 196, 195, 194, 193, 192, 191, 190, 189, 188, 187, 186, 185, 184, 183, 182, 181, 180, 179, 178, 177, 176, 175, 174, 173, 172, 171, 170, 169, 168, 167, 166, 165, 164, 163, 162, 161, 160, 159, 158, 157, 156, 155, 154, 153, 152, 151, 150, 149, 148, 147, 146, 145, 144, 143, 142, 141, 140, 139, 138, 137, 136, 135, 134, 133, 132, 131, 130, 129, 128, 127, 126, 125, 124, 123, 122, 121, 120, 119, 118, 117, 116, 115, 114, 113, 112, 111, 110, 109, 108, 107, 106, 105, 104, 103, 102, 101, 100, 99, 98, 97, 96, 95, 94, 93, 92, 91, 90, 89, 88, 87, 86, 85, 84, 83, 82, 81, 80, 79, 78, 77, 76, 75, 74, 73, 72, 71, 70, 69, 68, 67, 66, 65, 64, 63, 62, 61, 60, 59, 58, 57, 56, 55, 54, 53, 52, 51, 50, 49, 48, 47, 46, 45, 44, 43, 42, 41, 40, 39, 38, 37, 36, 35, 34, 33, 32, 31, 30, 29, 28, 27, 26, 25, 24, 23, 22, 21, 20, 19, 18, 17, 16, 15, 14, 13, 12, 11, 10, 9, 8, 7, 6, 5, 4, 3, 2, 1, 0]\n"
     ]
    }
   ],
   "source": [
    "some_list = []\n",
    "\n",
    "def appender(n):\n",
    "    for i in range(n):\n",
    "        some_list.append(n - i - 1)\n",
    "#         time.sleep(0.001)\n",
    "        \n",
    "t = Thread(target=appender, args=(250, ))\n",
    "t1 = Thread(target=appender, args=(250, ))\n",
    "\n",
    "t.start()\n",
    "t1.start()\n",
    "t.join()\n",
    "t1.join()\n",
    "\n",
    "print(some_list)"
   ]
  },
  {
   "cell_type": "markdown",
   "metadata": {},
   "source": [
    "##### GIL"
   ]
  },
  {
   "cell_type": "markdown",
   "metadata": {},
   "source": [
    "> GIL (global interpreter lock)—это мьютекс, который гарантирует, что в каждый момент времени только один поток имеет доступ к внутреннему состоянию интерпретатора"
   ]
  },
  {
   "cell_type": "markdown",
   "metadata": {
    "ExecuteTime": {
     "end_time": "2018-11-21T13:36:17.600323Z",
     "start_time": "2018-11-21T13:36:17.597256Z"
    }
   },
   "source": [
    "GIL - зачем? \n",
    "\n",
    "- чтобы избежать состояния гонки\n",
    "- чтобы избежать порчи данных (один пришел, добавил, другой пришел считал до того как добавил и положил, первое пропало)\n",
    "- "
   ]
  },
  {
   "cell_type": "markdown",
   "metadata": {},
   "source": [
    "У питона под капотом GIL, но GIL отпускается когда идут какие либо системные вызовы (работа с сокетами, i/o и тд.)"
   ]
  },
  {
   "cell_type": "markdown",
   "metadata": {},
   "source": [
    "![](https://cdn-images-1.medium.com/max/409/1*_4B2PKsJn9pUz3jbTnBnYw.png)"
   ]
  },
  {
   "cell_type": "raw",
   "metadata": {},
   "source": [
    "Из-за GIL многопоточный код обычно замедляет работу программы. В параллелизме Python плохо.\n",
    "\n",
    "Но GIL не мешает использовать потоки в Python для конкурентности - например работа с вводом/выводом, асинхронные запросы + парсинг.\n",
    "\n",
    "При многопроцессном подходе у каждого процесса будет свой GIL - тут все хорошо в плане производительности."
   ]
  },
  {
   "cell_type": "code",
   "execution_count": null,
   "metadata": {
    "collapsed": true
   },
   "outputs": [],
   "source": []
  },
  {
   "cell_type": "markdown",
   "metadata": {},
   "source": [
    "Пойдем дальше, больше потоков, больше процессов! Будем быстрее и осторожнее"
   ]
  },
  {
   "cell_type": "markdown",
   "metadata": {},
   "source": [
    "##### Пример с concurrent.futures"
   ]
  },
  {
   "cell_type": "code",
   "execution_count": 83,
   "metadata": {
    "ExecuteTime": {
     "end_time": "2018-11-21T12:06:15.642499Z",
     "start_time": "2018-11-21T12:06:15.633669Z"
    },
    "collapsed": true
   },
   "outputs": [],
   "source": [
    "import concurrent.futures"
   ]
  },
  {
   "cell_type": "raw",
   "metadata": {},
   "source": [
    "concurrent.futures.Executor\n",
    "concurrent.futures.ThreadPoolExecutor\n",
    "concurrent.futures.ProcessPoolExecutor"
   ]
  },
  {
   "cell_type": "raw",
   "metadata": {},
   "source": [
    "можно работать через контекстный менеджер\n",
    "\n",
    "with concurrent.futures.ThreadPoolExecutor(max_workers=2) as executor:"
   ]
  },
  {
   "cell_type": "code",
   "execution_count": null,
   "metadata": {
    "collapsed": true
   },
   "outputs": [],
   "source": [
    "executor.map (функция, итерируемые объекты)\n",
    "executor.submit (функция, аргументы)\n",
    "executor.shutdown (wait=True)"
   ]
  },
  {
   "cell_type": "raw",
   "metadata": {},
   "source": []
  },
  {
   "cell_type": "code",
   "execution_count": null,
   "metadata": {
    "collapsed": true
   },
   "outputs": [],
   "source": [
    "def summarize(n):\n",
    "    s = 0\n",
    "    for i in range(n):\n",
    "        s += i\n",
    "    time.sleep(1)\n",
    "    return s"
   ]
  },
  {
   "cell_type": "code",
   "execution_count": 85,
   "metadata": {
    "ExecuteTime": {
     "end_time": "2018-11-21T12:07:18.481435Z",
     "start_time": "2018-11-21T12:07:17.447421Z"
    }
   },
   "outputs": [
    {
     "name": "stdout",
     "output_type": "stream",
     "text": [
      "False True\n",
      "4950\n",
      "True False\n"
     ]
    },
    {
     "data": {
      "text/plain": [
       "10296"
      ]
     },
     "execution_count": 85,
     "metadata": {},
     "output_type": "execute_result"
    }
   ],
   "source": [
    "with concurrent.futures.ThreadPoolExecutor(max_workers=2) as executor:\n",
    "    f = executor.submit(summarize, 100)\n",
    "    f1 = executor.submit(summarize, 144)\n",
    "    \n",
    "    print(f.done(), f.running())\n",
    "    \n",
    "    print(f.result())  # <- блокирует\n",
    "    \n",
    "    print(f1.done(), f1.running())\n",
    "    \n",
    "\n",
    "f1.result()"
   ]
  },
  {
   "cell_type": "code",
   "execution_count": 86,
   "metadata": {
    "ExecuteTime": {
     "end_time": "2018-11-21T12:07:20.220283Z",
     "start_time": "2018-11-21T12:07:19.050843Z"
    }
   },
   "outputs": [
    {
     "name": "stdout",
     "output_type": "stream",
     "text": [
      "False True\n",
      "4950\n",
      "True False\n"
     ]
    },
    {
     "data": {
      "text/plain": [
       "10296"
      ]
     },
     "execution_count": 86,
     "metadata": {},
     "output_type": "execute_result"
    }
   ],
   "source": [
    "with concurrent.futures.ProcessPoolExecutor(max_workers=2) as executor:\n",
    "    f = executor.submit(summarize, 100)\n",
    "    f1 = executor.submit(summarize, 144)\n",
    "    \n",
    "    print(f.done(), f.running())\n",
    "    \n",
    "    print(f.result())  # <- блокирует\n",
    "    \n",
    "    print(f1.done(), f1.running())\n",
    "    \n",
    "\n",
    "f1.result()"
   ]
  },
  {
   "cell_type": "markdown",
   "metadata": {},
   "source": [
    "___________-"
   ]
  },
  {
   "cell_type": "markdown",
   "metadata": {},
   "source": [
    "##### Что с шаренными ресурсами для процесса и потока?"
   ]
  },
  {
   "cell_type": "code",
   "execution_count": 104,
   "metadata": {
    "ExecuteTime": {
     "end_time": "2018-11-21T12:11:41.286316Z",
     "start_time": "2018-11-21T12:11:41.281848Z"
    },
    "collapsed": true
   },
   "outputs": [],
   "source": [
    "s = []"
   ]
  },
  {
   "cell_type": "code",
   "execution_count": 113,
   "metadata": {
    "ExecuteTime": {
     "end_time": "2018-11-21T12:12:34.375747Z",
     "start_time": "2018-11-21T12:12:34.352509Z"
    },
    "collapsed": true
   },
   "outputs": [],
   "source": [
    "def appendaizer(n):\n",
    "    print(type(s))\n",
    "    for i in range(n):\n",
    "        s.append(i)\n",
    "    time.sleep(1)\n",
    "    return s"
   ]
  },
  {
   "cell_type": "code",
   "execution_count": 114,
   "metadata": {
    "ExecuteTime": {
     "end_time": "2018-11-21T12:12:35.701410Z",
     "start_time": "2018-11-21T12:12:34.560087Z"
    }
   },
   "outputs": [
    {
     "name": "stdout",
     "output_type": "stream",
     "text": [
      "<class 'list'>\n",
      "False True\n",
      "[0, 1, 2, 3, 4, 5, 6, 7, 8, 9, 10, 11, 12, 13, 14, 15, 16, 17, 18, 19, 20, 21, 22, 23, 24, 25, 26, 27, 28, 29, 30, 31, 32, 33, 34, 35, 36, 37, 38, 39, 40, 41, 42, 43, 44, 45, 46, 47, 48, 49, 50, 51, 52, 53, 54, 55, 56, 57, 58, 59, 60, 61, 62, 63, 64, 65, 66, 67, 68, 69, 70, 71, 72, 73, 74, 75, 76, 77, 78, 79, 80, 81, 82, 83, 84, 85, 86, 87, 88, 89, 90, 91, 92, 93, 94, 95, 96, 97, 98, 99]\n"
     ]
    }
   ],
   "source": [
    "with concurrent.futures.ProcessPoolExecutor(max_workers=1) as executor:\n",
    "    f = executor.submit(appendaizer, 100)\n",
    "    \n",
    "    print(f.done(), f.running())\n",
    "    print(f.result())  # <- блокирует"
   ]
  },
  {
   "cell_type": "code",
   "execution_count": 115,
   "metadata": {
    "ExecuteTime": {
     "end_time": "2018-11-21T12:12:35.707906Z",
     "start_time": "2018-11-21T12:12:35.703707Z"
    }
   },
   "outputs": [
    {
     "data": {
      "text/plain": [
       "[]"
      ]
     },
     "execution_count": 115,
     "metadata": {},
     "output_type": "execute_result"
    }
   ],
   "source": [
    "print(s)"
   ]
  },
  {
   "cell_type": "code",
   "execution_count": 138,
   "metadata": {
    "ExecuteTime": {
     "end_time": "2018-11-21T12:48:25.680675Z",
     "start_time": "2018-11-21T12:48:24.659281Z"
    },
    "collapsed": true
   },
   "outputs": [
    {
     "name": "stdout",
     "output_type": "stream",
     "text": [
      "<class 'list'>\n",
      "False True\n",
      "[0, 1, 2, 3, 4, 5, 6, 7, 8, 9, 10, 11, 12, 13, 14, 15, 16, 17, 18, 19, 20, 21, 22, 23, 24, 25, 26, 27, 28, 29, 30, 31, 32, 33, 34, 35, 36, 37, 38, 39, 40, 41, 42, 43, 44, 45, 46, 47, 48, 49, 50, 51, 52, 53, 54, 55, 56, 57, 58, 59, 60, 61, 62, 63, 64, 65, 66, 67, 68, 69, 70, 71, 72, 73, 74, 75, 76, 77, 78, 79, 80, 81, 82, 83, 84, 85, 86, 87, 88, 89, 90, 91, 92, 93, 94, 95, 96, 97, 98, 99, 0, 1, 2, 3, 4, 5, 6, 7, 8, 9, 10, 11, 12, 13, 14, 15, 16, 17, 18, 19, 20, 21, 22, 23, 24, 25, 26, 27, 28, 29, 30, 31, 32, 33, 34, 35, 36, 37, 38, 39, 40, 41, 42, 43, 44, 45, 46, 47, 48, 49, 50, 51, 52, 53, 54, 55, 56, 57, 58, 59, 60, 61, 62, 63, 64, 65, 66, 67, 68, 69, 70, 71, 72, 73, 74, 75, 76, 77, 78, 79, 80, 81, 82, 83, 84, 85, 86, 87, 88, 89, 90, 91, 92, 93, 94, 95, 96, 97, 98, 99]\n"
     ]
    }
   ],
   "source": [
    "with concurrent.futures.ThreadPoolExecutor(max_workers=1) as executor:\n",
    "    f = executor.submit(appendaizer, 100)\n",
    "    \n",
    "    print(f.done(), f.running())\n",
    "    \n",
    "    print(f.result())  # <- блокирует"
   ]
  },
  {
   "cell_type": "code",
   "execution_count": 140,
   "metadata": {
    "ExecuteTime": {
     "end_time": "2018-11-21T12:48:32.080996Z",
     "start_time": "2018-11-21T12:48:32.068962Z"
    },
    "collapsed": true
   },
   "outputs": [
    {
     "name": "stdout",
     "output_type": "stream",
     "text": [
      "[0, 1, 2, 3, 4, 5, 6, 7, 8, 9, 10, 11, 12, 13, 14, 15, 16, 17, 18, 19, 20, 21, 22, 23, 24, 25, 26, 27, 28, 29, 30, 31, 32, 33, 34, 35, 36, 37, 38, 39, 40, 41, 42, 43, 44, 45, 46, 47, 48, 49, 50, 51, 52, 53, 54, 55, 56, 57, 58, 59, 60, 61, 62, 63, 64, 65, 66, 67, 68, 69, 70, 71, 72, 73, 74, 75, 76, 77, 78, 79, 80, 81, 82, 83, 84, 85, 86, 87, 88, 89, 90, 91, 92, 93, 94, 95, 96, 97, 98, 99, 0, 1, 2, 3, 4, 5, 6, 7, 8, 9, 10, 11, 12, 13, 14, 15, 16, 17, 18, 19, 20, 21, 22, 23, 24, 25, 26, 27, 28, 29, 30, 31, 32, 33, 34, 35, 36, 37, 38, 39, 40, 41, 42, 43, 44, 45, 46, 47, 48, 49, 50, 51, 52, 53, 54, 55, 56, 57, 58, 59, 60, 61, 62, 63, 64, 65, 66, 67, 68, 69, 70, 71, 72, 73, 74, 75, 76, 77, 78, 79, 80, 81, 82, 83, 84, 85, 86, 87, 88, 89, 90, 91, 92, 93, 94, 95, 96, 97, 98, 99]\n"
     ]
    }
   ],
   "source": [
    "print(s)"
   ]
  },
  {
   "cell_type": "code",
   "execution_count": null,
   "metadata": {
    "collapsed": true
   },
   "outputs": [],
   "source": []
  },
  {
   "cell_type": "markdown",
   "metadata": {},
   "source": [
    "__________________________--"
   ]
  },
  {
   "cell_type": "markdown",
   "metadata": {},
   "source": [
    "##### Жиза"
   ]
  },
  {
   "cell_type": "code",
   "execution_count": 87,
   "metadata": {
    "ExecuteTime": {
     "end_time": "2018-11-21T12:07:41.466464Z",
     "start_time": "2018-11-21T12:07:41.085977Z"
    },
    "collapsed": true
   },
   "outputs": [],
   "source": [
    "import time\n",
    "import requests\n",
    "from bs4 import BeautifulSoup\n",
    "from functools import lru_cache\n",
    "import numpy as np\n",
    "\n",
    "proxies_list = [{'http':'http://'+i} for i in [\n",
    "                '67.149.217.254:10200',\n",
    "                '64.20.74.24:45554','62.37.237.101:8080',\n",
    "                '180.234.206.77:8080',\n",
    "                '78.11.85.13:8080','109.188.81.101:8080',\n",
    "                '139.59.17.113:8080','191.179.147.46:11421']]\n",
    "\n",
    "# for i in range(len(proxies_list)):\n",
    "#     time.sleep(np.random.random())\n",
    "#     assert 200 == requests.get('https://yandex.ru', \n",
    "#                                proxies=proxies_list[i]).status_code\n",
    "# print ('all_proxies_are_worked!\\n\\t----\\n')"
   ]
  },
  {
   "cell_type": "code",
   "execution_count": 88,
   "metadata": {
    "ExecuteTime": {
     "end_time": "2018-11-21T12:07:42.020825Z",
     "start_time": "2018-11-21T12:07:41.962976Z"
    },
    "collapsed": true
   },
   "outputs": [],
   "source": [
    "headers = {\n",
    "    'User-Agent': 'Mozila 5/0',\n",
    "}\n",
    "\n",
    "@lru_cache(maxsize=100000)\n",
    "def get_product_info(idx):\n",
    "    response = requests.get('https://pandao.ru/product/'+idx, \n",
    "                            headers=headers, \n",
    "                            proxies=proxies_list[np.random.randint(0, len(proxies_list))])\n",
    "    #time.sleep(0.2)\n",
    "    if not response.ok:\n",
    "        return {'idx':idx, 'title':0, 'price':0, 'old_price':0, \n",
    "            'rating':0, 'orders':0}\n",
    "    \n",
    "    soup = BeautifulSoup(response.content, 'html.parser')\n",
    "\n",
    "    title = soup.find('div', {'class':\"product-title\"})\n",
    "    if title:\n",
    "        title = ' '.join(title.text.split())\n",
    "    else:\n",
    "        title = 'None'\n",
    "\n",
    "    price = soup.find('p', {'class':\"current-price\"})\n",
    "    if price:\n",
    "        price = float(price.attrs['content'])\n",
    "    else:\n",
    "        price = 0\n",
    "\n",
    "    rating = soup.find('span', {'class':\"sale-rating\"})\n",
    "    if rating:\n",
    "        rating = float(rating.text.split(' ')[0])\n",
    "    else:\n",
    "        rating = 0\n",
    "        \n",
    "    return {'idx':idx, 'title':title, 'price':price, \n",
    "            'rating':rating }"
   ]
  },
  {
   "cell_type": "raw",
   "metadata": {},
   "source": [
    "res = []\n",
    "\n",
    "r = requests.get('https://pandao.ru/points')\n",
    "soup = BeautifulSoup(r.content, 'html.parser')\n",
    "\n",
    "for i in soup.findAll('a', {'class':\"product-item\"}):\n",
    "    res.append(i['data-id'])\n",
    "\n",
    "res"
   ]
  },
  {
   "cell_type": "code",
   "execution_count": 89,
   "metadata": {
    "ExecuteTime": {
     "end_time": "2018-11-21T12:07:43.499449Z",
     "start_time": "2018-11-21T12:07:43.440624Z"
    },
    "collapsed": true
   },
   "outputs": [],
   "source": [
    "prd_ids = ['0ddd2f40-39cf-4288-9c4d-1b32f2ddd142', '97154181-8921-48be-9397-35c2ff5f5111',\n",
    "'5a0a0808-c432-406b-ba36-382a797ae74a', '2f21e653-0fe4-4b35-867b-29eefe9a1b39',\n",
    "'0dcad2bc-226d-4e37-b602-754ac564ea50', '017a2150-d5a0-413b-9be3-0d59bdddc895',\n",
    "'464a9254-e7f4-4bde-8f09-c356e59228be', 'dd507101-c239-46ef-86c0-7d8cdb598374',\n",
    "'41ccd8d7-1514-4534-9958-beb7a1ee9797', '41ccd8d7-1514-4534-9958-beb7a1ee9797',\n",
    "'8a3ec31f-8b80-45a1-aab0-51b6425005f7', 'b80043b6-67f5-448c-8565-1a0d6c8b3449',\n",
    "'b902f630-68c0-4be5-93ec-d7d1d322c97e', '5f98612e-d999-426c-a74d-d3a2439e5ded',\n",
    "'2ea3a39f-7f96-4e45-b04a-7f7349100f6b', '65058295-d8ca-4d36-871b-e1a50247656e',\n",
    "'95414baf-0203-4c6a-9b90-f3bb9e0c3bae',\n",
    "'94bf017f-3a3c-48f2-95cf-972ab92b5c0f', 'c094fe15-b54e-445d-ba1b-a2897e9710d4',\n",
    "'126d746f-0458-4874-85e3-47d72e9bd261',\n",
    "'592d4b46-e7b5-4a06-86f8-0fda04047918', '3e5348a1-add0-410e-9ef6-5f919ca65a3f',\n",
    "'5600652c-ce34-41c1-9f57-1066eb8a0e6c', 'e4d0ea4f-fc51-4af4-b996-4479d4b06cdd',\n",
    "'2b3c649b-b7dc-462f-9b23-cf92d7d373ba',\n",
    "'cd5b75ff-010f-416f-846a-9886d935a2fc', '88c7d55b-6dff-4878-8f7b-c82a9302ea17',\n",
    "'65e2be8a-bd34-4e8b-9cf0-774d7e0e99a0',\n",
    "'bde6300a-b268-4724-ac2d-88e439acabf0', '9566efbd-b94f-42a6-b13f-eecb51a54a51',\n",
    "'e16c4a79-79e2-46ea-a0d0-9cfb863d110a',\n",
    "'43c43bb6-d9fd-4e8b-ac6c-f572cbc944d4', 'eabd6d3a-0e12-4c01-862d-8eb1e0ee67c5',\n",
    "'94c58080-3fcd-408a-8a2e-10297f61060e', 'a9fb97f1-8534-410d-bd1a-0f8341311c48',\n",
    "'e8437e9b-96b5-45fc-b2d7-27d54abfbd4e', '9af479fa-9904-419d-9289-a9f7a254b5f6',\n",
    "'3568d795-e02d-42fb-a85b-a488e01445cc',\n",
    "'43b92387-d118-4fc5-871e-6615417b1d79', 'fc2a66f4-550a-4944-b796-cc4c15ac7201',\n",
    "'96b701c9-a14f-4fa0-8a46-99ac62418598',\n",
    "'b158cc8b-279e-45c9-9b06-20ec25e1cf42', '7687608c-c3d0-48a5-893e-7a2f5a277578',\n",
    "'906c782b-119f-4398-bac6-9969b4c117ab',\n",
    "'8a708ccd-6a51-4712-bec6-912fcc2bc2d3', 'b4851d65-1e38-473c-a190-2e862f4cb8cd',\n",
    "'d456cfb8-c2da-4f89-abcc-16df65bcfb18', '51455200-78a7-4353-8f08-c90b4f149165',\n",
    "'c0e41577-42c4-4402-a89c-5418da501b8c', '90516e9b-ace8-43bf-8eca-f8df95b1f03a',\n",
    "'027f8d2f-dc8f-4dff-a5e8-87a5d3cfeb69', '14bc4955-48b1-43d3-9dc7-b18332367254',\n",
    "'17a22405-34ec-45dc-b7a5-35034b8f9346',\n",
    "'3d954a88-1534-499e-9b01-d82cca8afda3', '3eacaa93-ab98-4165-bec8-5ae96adb4df8',\n",
    "'952570e0-19c1-44af-bd6d-aa7d546986c8',\n",
    "'a27f0148-d5e6-4457-ad21-1d257f270967' , 'b82844af-d28d-4f33-9038-c9fd27bc5c24',\n",
    "'0e873862-8750-4604-9dd8-b718b1391532',\n",
    "'cc362ad5-e232-4727-87d0-1c571f1eefe1', '9c237e0b-10ac-48c1-a7fe-7bb6f72ce927',\n",
    "'e87632c9-6764-4ee5-862f-0b84b7ce2914', '14e38f1a-1d95-4238-8381-ad3c3fc2d31e',\n",
    "'4c6bc3d5-a389-4f57-9d89-f61d4eacc77b',\n",
    "'7933813d-f6a0-4352-ba4f-824bc98680a8', '32781d36-806b-45eb-bb2d-4bca80d8b6f2',\n",
    "'72cd2efc-51d9-4a45-a710-7fc62359a4d9', '4c8ac5d2-0307-462a-aaac-ba6ffe562a55',\n",
    "'81ef7c5e-d936-4f44-96d8-3a6cb87be0c4', '8f92e4b3-4d09-46f3-a24b-3da800c64c77',\n",
    "'380d96de-e974-4141-af46-2f765e5fc984', '6fd9abec-7ef8-4842-b24d-c06b4e60bc59', \n",
    "'45253494-0c26-4a21-ae11-569343c55ade',\n",
    "'fb524119-dd0c-4575-ad67-31f116c0ad5c', '0f32e154-9063-4e31-a6e6-2a5f41a8d16c',\n",
    "'06839e0e-80d7-490a-a1d1-706cb0f65837', '4fd83c9f-cd16-477c-8054-ff17b5c225c3',\n",
    "'c14c3277-f011-4da1-9d64-56ce89d6e23c',\n",
    "'9534385e-2373-48f4-9c6a-9ef1c3b02e09', '488d58b0-faa4-483a-ae4d-d541dc436483', \n",
    "'740b5673-11b1-43a8-b2cc-558e5bb9705d', '94c58080-3fcd-408a-8a2e-10297f61060e',\n",
    "'36da7efb-4f78-4325-9f4b-fc9ea2f76e3e',\n",
    "'f38acc05-d3d9-43a6-a310-e37e35a06258', '5f98612e-d999-426c-a74d-d3a2439e5ded',\n",
    "'63baf2b4-89ac-4667-ba39-e45596bdc7fc',\n",
    "'95414baf-0203-4c6a-9b90-f3bb9e0c3bae', '340c64be-c30b-4be3-83dd-e675c7ed533b',\n",
    "'39cca812-e5e7-4c76-a521-def0292fb184', '6fd9abec-7ef8-4842-b24d-c06b4e60bc59',\n",
    "'7bbe3f2c-d5ef-4f23-878c-4c9abec6c75e', '1c39cf24-1ae1-445f-b9e7-233cb102e9ce',\n",
    "'786860b0-dfb6-4a20-b2b0-f40f69088508', '9af479fa-9904-419d-9289-a9f7a254b5f6', \n",
    "'22fba623-c746-45af-9d94-7d78f73ef031', 'a08a7522-3dfb-49cd-a682-b3c32d5538d5',\n",
    "'73b8ff53-288b-46f8-85a8-593e198ba491', '85a89ff0-a438-40fe-aa59-d47ac5353b5d',\n",
    "'955eedc1-4211-4d42-976c-0f5149a29d2a',\n",
    "'349982e9-ad32-4e27-8c68-c4e8e4e4491b', '9798f731-b4af-45f4-88aa-5798d1e84c27',\n",
    "'19b9e842-7756-4a71-a01e-081c3819aa17',\n",
    "'756ac7ba-88ce-476e-a4ba-24a175273aeb', '49b4589d-6421-4852-8d88-4eb6cb317064',\n",
    "'455f22e7-732b-478b-a412-822436c790a9'\n",
    "          ]"
   ]
  },
  {
   "cell_type": "code",
   "execution_count": 90,
   "metadata": {
    "ExecuteTime": {
     "end_time": "2018-11-21T12:07:43.928437Z",
     "start_time": "2018-11-21T12:07:43.920521Z"
    }
   },
   "outputs": [
    {
     "data": {
      "text/plain": [
       "105"
      ]
     },
     "execution_count": 90,
     "metadata": {},
     "output_type": "execute_result"
    }
   ],
   "source": [
    "len(prd_ids)"
   ]
  },
  {
   "cell_type": "code",
   "execution_count": 145,
   "metadata": {
    "ExecuteTime": {
     "end_time": "2018-11-21T12:52:27.496605Z",
     "start_time": "2018-11-21T12:52:27.483225Z"
    },
    "collapsed": true
   },
   "outputs": [],
   "source": [
    "# do not forget for tests !\n",
    "get_product_info.cache_clear()"
   ]
  },
  {
   "cell_type": "code",
   "execution_count": 146,
   "metadata": {
    "ExecuteTime": {
     "end_time": "2018-11-21T12:53:14.083194Z",
     "start_time": "2018-11-21T12:52:27.685156Z"
    }
   },
   "outputs": [
    {
     "name": "stdout",
     "output_type": "stream",
     "text": [
      "computed 0 lines in 0:00:00.461\n",
      "computed 10 lines in 0:00:04.489\n",
      "computed 20 lines in 0:00:09.196\n",
      "computed 30 lines in 0:00:13.415\n",
      "computed 40 lines in 0:00:17.827\n",
      "computed 50 lines in 0:00:22.352\n",
      "computed 60 lines in 0:00:26.572\n",
      "computed 70 lines in 0:00:30.883\n",
      "computed 80 lines in 0:00:36.821\n",
      "computed 90 lines in 0:00:39.916\n",
      "computed 100 lines in 0:00:44.648\n",
      "whole time =  0:00:46.347036\n"
     ]
    }
   ],
   "source": [
    "result = {}\n",
    "time_begin = datetime.datetime.now()\n",
    "\n",
    "for i, idx in enumerate(prd_ids):\n",
    "    data = get_product_info(idx)\n",
    "    result[data['idx']] = data\n",
    "    if i % 10 == 0:\n",
    "        print ('computed %d lines in %s' % (i, str(datetime.datetime.now() - time_begin)[:11]))\n",
    "        \n",
    "time_end = datetime.datetime.now()\n",
    "print('whole time = ', time_end-time_begin)"
   ]
  },
  {
   "cell_type": "code",
   "execution_count": 147,
   "metadata": {
    "ExecuteTime": {
     "end_time": "2018-11-21T12:53:14.115381Z",
     "start_time": "2018-11-21T12:53:14.086873Z"
    },
    "collapsed": true
   },
   "outputs": [
    {
     "data": {
      "text/html": [
       "<div>\n",
       "<style scoped>\n",
       "    .dataframe tbody tr th:only-of-type {\n",
       "        vertical-align: middle;\n",
       "    }\n",
       "\n",
       "    .dataframe tbody tr th {\n",
       "        vertical-align: top;\n",
       "    }\n",
       "\n",
       "    .dataframe thead th {\n",
       "        text-align: right;\n",
       "    }\n",
       "</style>\n",
       "<table border=\"1\" class=\"dataframe\">\n",
       "  <thead>\n",
       "    <tr style=\"text-align: right;\">\n",
       "      <th></th>\n",
       "      <th>idx</th>\n",
       "      <th>price</th>\n",
       "      <th>rating</th>\n",
       "      <th>title</th>\n",
       "    </tr>\n",
       "  </thead>\n",
       "  <tbody>\n",
       "    <tr>\n",
       "      <th>0ddd2f40-39cf-4288-9c4d-1b32f2ddd142</th>\n",
       "      <td>0ddd2f40-39cf-4288-9c4d-1b32f2ddd142</td>\n",
       "      <td>84</td>\n",
       "      <td>2377</td>\n",
       "      <td>Спрей для защиты экрана телефона</td>\n",
       "    </tr>\n",
       "    <tr>\n",
       "      <th>97154181-8921-48be-9397-35c2ff5f5111</th>\n",
       "      <td>97154181-8921-48be-9397-35c2ff5f5111</td>\n",
       "      <td>365</td>\n",
       "      <td>996</td>\n",
       "      <td>Воздушный шар для воды</td>\n",
       "    </tr>\n",
       "    <tr>\n",
       "      <th>5a0a0808-c432-406b-ba36-382a797ae74a</th>\n",
       "      <td>5a0a0808-c432-406b-ba36-382a797ae74a</td>\n",
       "      <td>272</td>\n",
       "      <td>3076</td>\n",
       "      <td>Настенный держатель для душа</td>\n",
       "    </tr>\n",
       "    <tr>\n",
       "      <th>2f21e653-0fe4-4b35-867b-29eefe9a1b39</th>\n",
       "      <td>2f21e653-0fe4-4b35-867b-29eefe9a1b39</td>\n",
       "      <td>44</td>\n",
       "      <td>9797</td>\n",
       "      <td>Светодиодная гирлянда, работающая от батареек</td>\n",
       "    </tr>\n",
       "    <tr>\n",
       "      <th>0dcad2bc-226d-4e37-b602-754ac564ea50</th>\n",
       "      <td>0dcad2bc-226d-4e37-b602-754ac564ea50</td>\n",
       "      <td>107</td>\n",
       "      <td>49131</td>\n",
       "      <td>Женские наручные кварцевые часы с ремешком из ...</td>\n",
       "    </tr>\n",
       "  </tbody>\n",
       "</table>\n",
       "</div>"
      ],
      "text/plain": [
       "                                                                       idx  \\\n",
       "0ddd2f40-39cf-4288-9c4d-1b32f2ddd142  0ddd2f40-39cf-4288-9c4d-1b32f2ddd142   \n",
       "97154181-8921-48be-9397-35c2ff5f5111  97154181-8921-48be-9397-35c2ff5f5111   \n",
       "5a0a0808-c432-406b-ba36-382a797ae74a  5a0a0808-c432-406b-ba36-382a797ae74a   \n",
       "2f21e653-0fe4-4b35-867b-29eefe9a1b39  2f21e653-0fe4-4b35-867b-29eefe9a1b39   \n",
       "0dcad2bc-226d-4e37-b602-754ac564ea50  0dcad2bc-226d-4e37-b602-754ac564ea50   \n",
       "\n",
       "                                     price rating  \\\n",
       "0ddd2f40-39cf-4288-9c4d-1b32f2ddd142    84   2377   \n",
       "97154181-8921-48be-9397-35c2ff5f5111   365    996   \n",
       "5a0a0808-c432-406b-ba36-382a797ae74a   272   3076   \n",
       "2f21e653-0fe4-4b35-867b-29eefe9a1b39    44   9797   \n",
       "0dcad2bc-226d-4e37-b602-754ac564ea50   107  49131   \n",
       "\n",
       "                                                                                  title  \n",
       "0ddd2f40-39cf-4288-9c4d-1b32f2ddd142                   Спрей для защиты экрана телефона  \n",
       "97154181-8921-48be-9397-35c2ff5f5111                             Воздушный шар для воды  \n",
       "5a0a0808-c432-406b-ba36-382a797ae74a                       Настенный держатель для душа  \n",
       "2f21e653-0fe4-4b35-867b-29eefe9a1b39      Светодиодная гирлянда, работающая от батареек  \n",
       "0dcad2bc-226d-4e37-b602-754ac564ea50  Женские наручные кварцевые часы с ремешком из ...  "
      ]
     },
     "execution_count": 147,
     "metadata": {},
     "output_type": "execute_result"
    }
   ],
   "source": [
    "import pandas as pd\n",
    "pd.DataFrame(result).T.head()"
   ]
  },
  {
   "cell_type": "code",
   "execution_count": 151,
   "metadata": {
    "ExecuteTime": {
     "end_time": "2018-11-21T12:53:40.248907Z",
     "start_time": "2018-11-21T12:53:40.229599Z"
    },
    "collapsed": true
   },
   "outputs": [],
   "source": [
    "# do not forget for tests !\n",
    "get_product_info.cache_clear()"
   ]
  },
  {
   "cell_type": "code",
   "execution_count": 152,
   "metadata": {
    "ExecuteTime": {
     "end_time": "2018-11-21T12:53:56.570722Z",
     "start_time": "2018-11-21T12:53:40.727675Z"
    }
   },
   "outputs": [
    {
     "name": "stdout",
     "output_type": "stream",
     "text": [
      "computed 0 lines in 0:00:00.583\n",
      "computed 10 lines in 0:00:02.156\n",
      "computed 20 lines in 0:00:03.700\n",
      "computed 30 lines in 0:00:05.213\n",
      "computed 40 lines in 0:00:06.656\n",
      "computed 50 lines in 0:00:08.707\n",
      "computed 60 lines in 0:00:10.006\n",
      "computed 70 lines in 0:00:11.842\n",
      "computed 80 lines in 0:00:13.279\n",
      "computed 90 lines in 0:00:13.897\n",
      "computed 100 lines in 0:00:15.320\n",
      "whole time =  0:00:15.791971\n"
     ]
    }
   ],
   "source": [
    "import datetime\n",
    "import concurrent.futures\n",
    "\n",
    "CONNECTIONS = 4\n",
    "time_begin = datetime.datetime.now()\n",
    "result = {}\n",
    "\n",
    "with concurrent.futures.ThreadPoolExecutor(max_workers=CONNECTIONS) as executor:\n",
    "    \n",
    "    dicts_with_result = {\n",
    "        executor.submit(get_product_info, idx): idx for idx in prd_ids}\n",
    "    \n",
    "    for i, future in enumerate(concurrent.futures.as_completed(dicts_with_result)):\n",
    "        if i % 10 == 0:\n",
    "            print ('computed %d lines in %s' % (i, str(datetime.datetime.now() - time_begin)[:11]))\n",
    "        try:\n",
    "            data = future.result()\n",
    "            result[data['idx']] = data\n",
    "        except Exception as exc:\n",
    "            print (exc, i, future)\n",
    "        finally:\n",
    "            pass\n",
    "        \n",
    "time_end = datetime.datetime.now()\n",
    "\n",
    "print('whole time = ', time_end-time_begin)"
   ]
  },
  {
   "cell_type": "code",
   "execution_count": 153,
   "metadata": {
    "ExecuteTime": {
     "end_time": "2018-11-21T12:53:56.593389Z",
     "start_time": "2018-11-21T12:53:56.573183Z"
    },
    "scrolled": false
   },
   "outputs": [
    {
     "data": {
      "text/html": [
       "<div>\n",
       "<style scoped>\n",
       "    .dataframe tbody tr th:only-of-type {\n",
       "        vertical-align: middle;\n",
       "    }\n",
       "\n",
       "    .dataframe tbody tr th {\n",
       "        vertical-align: top;\n",
       "    }\n",
       "\n",
       "    .dataframe thead th {\n",
       "        text-align: right;\n",
       "    }\n",
       "</style>\n",
       "<table border=\"1\" class=\"dataframe\">\n",
       "  <thead>\n",
       "    <tr style=\"text-align: right;\">\n",
       "      <th></th>\n",
       "      <th>idx</th>\n",
       "      <th>price</th>\n",
       "      <th>rating</th>\n",
       "      <th>title</th>\n",
       "    </tr>\n",
       "  </thead>\n",
       "  <tbody>\n",
       "    <tr>\n",
       "      <th>0ddd2f40-39cf-4288-9c4d-1b32f2ddd142</th>\n",
       "      <td>0ddd2f40-39cf-4288-9c4d-1b32f2ddd142</td>\n",
       "      <td>84</td>\n",
       "      <td>2377</td>\n",
       "      <td>Спрей для защиты экрана телефона</td>\n",
       "    </tr>\n",
       "    <tr>\n",
       "      <th>97154181-8921-48be-9397-35c2ff5f5111</th>\n",
       "      <td>97154181-8921-48be-9397-35c2ff5f5111</td>\n",
       "      <td>365</td>\n",
       "      <td>996</td>\n",
       "      <td>Воздушный шар для воды</td>\n",
       "    </tr>\n",
       "    <tr>\n",
       "      <th>5a0a0808-c432-406b-ba36-382a797ae74a</th>\n",
       "      <td>5a0a0808-c432-406b-ba36-382a797ae74a</td>\n",
       "      <td>272</td>\n",
       "      <td>3076</td>\n",
       "      <td>Настенный держатель для душа</td>\n",
       "    </tr>\n",
       "    <tr>\n",
       "      <th>2f21e653-0fe4-4b35-867b-29eefe9a1b39</th>\n",
       "      <td>2f21e653-0fe4-4b35-867b-29eefe9a1b39</td>\n",
       "      <td>44</td>\n",
       "      <td>9797</td>\n",
       "      <td>Светодиодная гирлянда, работающая от батареек</td>\n",
       "    </tr>\n",
       "    <tr>\n",
       "      <th>017a2150-d5a0-413b-9be3-0d59bdddc895</th>\n",
       "      <td>017a2150-d5a0-413b-9be3-0d59bdddc895</td>\n",
       "      <td>226</td>\n",
       "      <td>6092</td>\n",
       "      <td>Силиконовая форма для выпечки блинов</td>\n",
       "    </tr>\n",
       "  </tbody>\n",
       "</table>\n",
       "</div>"
      ],
      "text/plain": [
       "                                                                       idx  \\\n",
       "0ddd2f40-39cf-4288-9c4d-1b32f2ddd142  0ddd2f40-39cf-4288-9c4d-1b32f2ddd142   \n",
       "97154181-8921-48be-9397-35c2ff5f5111  97154181-8921-48be-9397-35c2ff5f5111   \n",
       "5a0a0808-c432-406b-ba36-382a797ae74a  5a0a0808-c432-406b-ba36-382a797ae74a   \n",
       "2f21e653-0fe4-4b35-867b-29eefe9a1b39  2f21e653-0fe4-4b35-867b-29eefe9a1b39   \n",
       "017a2150-d5a0-413b-9be3-0d59bdddc895  017a2150-d5a0-413b-9be3-0d59bdddc895   \n",
       "\n",
       "                                     price rating  \\\n",
       "0ddd2f40-39cf-4288-9c4d-1b32f2ddd142    84   2377   \n",
       "97154181-8921-48be-9397-35c2ff5f5111   365    996   \n",
       "5a0a0808-c432-406b-ba36-382a797ae74a   272   3076   \n",
       "2f21e653-0fe4-4b35-867b-29eefe9a1b39    44   9797   \n",
       "017a2150-d5a0-413b-9be3-0d59bdddc895   226   6092   \n",
       "\n",
       "                                                                              title  \n",
       "0ddd2f40-39cf-4288-9c4d-1b32f2ddd142               Спрей для защиты экрана телефона  \n",
       "97154181-8921-48be-9397-35c2ff5f5111                         Воздушный шар для воды  \n",
       "5a0a0808-c432-406b-ba36-382a797ae74a                   Настенный держатель для душа  \n",
       "2f21e653-0fe4-4b35-867b-29eefe9a1b39  Светодиодная гирлянда, работающая от батареек  \n",
       "017a2150-d5a0-413b-9be3-0d59bdddc895           Силиконовая форма для выпечки блинов  "
      ]
     },
     "execution_count": 153,
     "metadata": {},
     "output_type": "execute_result"
    }
   ],
   "source": [
    "import pandas as pd\n",
    "pd.DataFrame(result).T.head()"
   ]
  },
  {
   "cell_type": "code",
   "execution_count": 92,
   "metadata": {
    "ExecuteTime": {
     "end_time": "2018-11-21T12:08:05.222956Z",
     "start_time": "2018-11-21T12:08:05.220519Z"
    },
    "collapsed": true
   },
   "outputs": [],
   "source": [
    "# do not forget for tests !\n",
    "get_product_info.cache_clear()"
   ]
  },
  {
   "cell_type": "code",
   "execution_count": 93,
   "metadata": {
    "ExecuteTime": {
     "end_time": "2018-11-21T12:08:17.258228Z",
     "start_time": "2018-11-21T12:08:05.225885Z"
    }
   },
   "outputs": [
    {
     "name": "stdout",
     "output_type": "stream",
     "text": [
      "computed 0 lines in 0:00:00.693\n",
      "computed 10 lines in 0:00:01.957\n",
      "computed 20 lines in 0:00:03.496\n",
      "computed 30 lines in 0:00:04.332\n",
      "computed 40 lines in 0:00:05.906\n",
      "computed 50 lines in 0:00:07.271\n",
      "computed 60 lines in 0:00:08.244\n",
      "computed 70 lines in 0:00:09.253\n",
      "computed 80 lines in 0:00:09.895\n",
      "computed 90 lines in 0:00:10.868\n",
      "computed 100 lines in 0:00:11.798\n",
      "whole time =  0:00:11.990581\n"
     ]
    }
   ],
   "source": [
    "CONNECTIONS = 10\n",
    "time_begin = datetime.datetime.now()\n",
    "result = {}\n",
    "\n",
    "with concurrent.futures.ThreadPoolExecutor(max_workers=CONNECTIONS) as executor:\n",
    "    \n",
    "    dicts_with_result = {executor.submit(get_product_info, idx): idx \n",
    "                   for idx in prd_ids}\n",
    "    \n",
    "    for i, future in enumerate(concurrent.futures.as_completed(dicts_with_result)):\n",
    "        if i % 10 == 0:\n",
    "            print ('computed %d lines in %s' % (i, str(datetime.datetime.now() - time_begin)[:11]))\n",
    "        try:\n",
    "            data = future.result()\n",
    "            result[data['idx']] = data\n",
    "        except Exception as exc:\n",
    "            print (exc, i, future)\n",
    "        finally:\n",
    "            pass\n",
    "        \n",
    "time_end = datetime.datetime.now()\n",
    "\n",
    "print('whole time = ', time_end-time_begin)"
   ]
  },
  {
   "cell_type": "code",
   "execution_count": null,
   "metadata": {
    "collapsed": true
   },
   "outputs": [],
   "source": []
  },
  {
   "cell_type": "code",
   "execution_count": 94,
   "metadata": {
    "ExecuteTime": {
     "end_time": "2018-11-21T12:08:17.263339Z",
     "start_time": "2018-11-21T12:08:17.260703Z"
    },
    "collapsed": true
   },
   "outputs": [],
   "source": [
    "import pandas as pd\n",
    "pd.DataFrame(result).T.head()"
   ]
  },
  {
   "cell_type": "code",
   "execution_count": null,
   "metadata": {
    "collapsed": true
   },
   "outputs": [],
   "source": []
  },
  {
   "cell_type": "code",
   "execution_count": 154,
   "metadata": {
    "ExecuteTime": {
     "end_time": "2018-11-21T12:54:38.980846Z",
     "start_time": "2018-11-21T12:54:38.964515Z"
    },
    "collapsed": true
   },
   "outputs": [],
   "source": [
    "# do not forget for tests !\n",
    "get_product_info.cache_clear()"
   ]
  },
  {
   "cell_type": "code",
   "execution_count": 155,
   "metadata": {
    "ExecuteTime": {
     "end_time": "2018-11-21T12:54:48.044295Z",
     "start_time": "2018-11-21T12:54:40.184098Z"
    }
   },
   "outputs": [
    {
     "name": "stdout",
     "output_type": "stream",
     "text": [
      "computed 0 lines in 0:00:00.671\n",
      "computed 10 lines in 0:00:01.886\n",
      "computed 20 lines in 0:00:02.668\n",
      "computed 30 lines in 0:00:03.309\n",
      "computed 40 lines in 0:00:03.937\n",
      "computed 50 lines in 0:00:04.586\n",
      "computed 60 lines in 0:00:05.224\n",
      "computed 70 lines in 0:00:05.812\n",
      "computed 80 lines in 0:00:06.348\n",
      "computed 90 lines in 0:00:06.925\n",
      "computed 100 lines in 0:00:07.389\n",
      "whole time =  0:00:07.815100\n"
     ]
    }
   ],
   "source": [
    "CONNECTIONS = 10\n",
    "time_begin = datetime.datetime.now()\n",
    "result = {}\n",
    "\n",
    "with concurrent.futures.ProcessPoolExecutor(max_workers=CONNECTIONS) as executor:\n",
    "    \n",
    "    dicts_with_result = {executor.submit(get_product_info, idx): idx \n",
    "                   for idx in prd_ids}\n",
    "    \n",
    "    for i, future in enumerate(concurrent.futures.as_completed(dicts_with_result)):\n",
    "        if i % 10 == 0:\n",
    "            print ('computed %d lines in %s' % (i, str(datetime.datetime.now() - time_begin)[:11]))\n",
    "        try:\n",
    "            data = future.result()\n",
    "            result[data['idx']] = data\n",
    "        except Exception as exc:\n",
    "            print (exc, i, future)\n",
    "        finally:\n",
    "            pass\n",
    "        \n",
    "time_end = datetime.datetime.now()\n",
    "\n",
    "print('whole time = ', time_end-time_begin)"
   ]
  },
  {
   "cell_type": "code",
   "execution_count": 156,
   "metadata": {
    "ExecuteTime": {
     "end_time": "2018-11-21T12:54:48.123663Z",
     "start_time": "2018-11-21T12:54:48.048987Z"
    }
   },
   "outputs": [
    {
     "data": {
      "text/html": [
       "<div>\n",
       "<style scoped>\n",
       "    .dataframe tbody tr th:only-of-type {\n",
       "        vertical-align: middle;\n",
       "    }\n",
       "\n",
       "    .dataframe tbody tr th {\n",
       "        vertical-align: top;\n",
       "    }\n",
       "\n",
       "    .dataframe thead th {\n",
       "        text-align: right;\n",
       "    }\n",
       "</style>\n",
       "<table border=\"1\" class=\"dataframe\">\n",
       "  <thead>\n",
       "    <tr style=\"text-align: right;\">\n",
       "      <th></th>\n",
       "      <th>idx</th>\n",
       "      <th>price</th>\n",
       "      <th>rating</th>\n",
       "      <th>title</th>\n",
       "    </tr>\n",
       "  </thead>\n",
       "  <tbody>\n",
       "    <tr>\n",
       "      <th>0ddd2f40-39cf-4288-9c4d-1b32f2ddd142</th>\n",
       "      <td>0ddd2f40-39cf-4288-9c4d-1b32f2ddd142</td>\n",
       "      <td>84</td>\n",
       "      <td>2377</td>\n",
       "      <td>Спрей для защиты экрана телефона</td>\n",
       "    </tr>\n",
       "    <tr>\n",
       "      <th>017a2150-d5a0-413b-9be3-0d59bdddc895</th>\n",
       "      <td>017a2150-d5a0-413b-9be3-0d59bdddc895</td>\n",
       "      <td>226</td>\n",
       "      <td>6092</td>\n",
       "      <td>Силиконовая форма для выпечки блинов</td>\n",
       "    </tr>\n",
       "    <tr>\n",
       "      <th>5a0a0808-c432-406b-ba36-382a797ae74a</th>\n",
       "      <td>5a0a0808-c432-406b-ba36-382a797ae74a</td>\n",
       "      <td>272</td>\n",
       "      <td>3076</td>\n",
       "      <td>Настенный держатель для душа</td>\n",
       "    </tr>\n",
       "    <tr>\n",
       "      <th>97154181-8921-48be-9397-35c2ff5f5111</th>\n",
       "      <td>97154181-8921-48be-9397-35c2ff5f5111</td>\n",
       "      <td>365</td>\n",
       "      <td>996</td>\n",
       "      <td>Воздушный шар для воды</td>\n",
       "    </tr>\n",
       "    <tr>\n",
       "      <th>41ccd8d7-1514-4534-9958-beb7a1ee9797</th>\n",
       "      <td>41ccd8d7-1514-4534-9958-beb7a1ee9797</td>\n",
       "      <td>131</td>\n",
       "      <td>82114</td>\n",
       "      <td>Беспроводные Bluetooth-наушники для мобильного...</td>\n",
       "    </tr>\n",
       "  </tbody>\n",
       "</table>\n",
       "</div>"
      ],
      "text/plain": [
       "                                                                       idx  \\\n",
       "0ddd2f40-39cf-4288-9c4d-1b32f2ddd142  0ddd2f40-39cf-4288-9c4d-1b32f2ddd142   \n",
       "017a2150-d5a0-413b-9be3-0d59bdddc895  017a2150-d5a0-413b-9be3-0d59bdddc895   \n",
       "5a0a0808-c432-406b-ba36-382a797ae74a  5a0a0808-c432-406b-ba36-382a797ae74a   \n",
       "97154181-8921-48be-9397-35c2ff5f5111  97154181-8921-48be-9397-35c2ff5f5111   \n",
       "41ccd8d7-1514-4534-9958-beb7a1ee9797  41ccd8d7-1514-4534-9958-beb7a1ee9797   \n",
       "\n",
       "                                     price rating  \\\n",
       "0ddd2f40-39cf-4288-9c4d-1b32f2ddd142    84   2377   \n",
       "017a2150-d5a0-413b-9be3-0d59bdddc895   226   6092   \n",
       "5a0a0808-c432-406b-ba36-382a797ae74a   272   3076   \n",
       "97154181-8921-48be-9397-35c2ff5f5111   365    996   \n",
       "41ccd8d7-1514-4534-9958-beb7a1ee9797   131  82114   \n",
       "\n",
       "                                                                                  title  \n",
       "0ddd2f40-39cf-4288-9c4d-1b32f2ddd142                   Спрей для защиты экрана телефона  \n",
       "017a2150-d5a0-413b-9be3-0d59bdddc895               Силиконовая форма для выпечки блинов  \n",
       "5a0a0808-c432-406b-ba36-382a797ae74a                       Настенный держатель для душа  \n",
       "97154181-8921-48be-9397-35c2ff5f5111                             Воздушный шар для воды  \n",
       "41ccd8d7-1514-4534-9958-beb7a1ee9797  Беспроводные Bluetooth-наушники для мобильного...  "
      ]
     },
     "execution_count": 156,
     "metadata": {},
     "output_type": "execute_result"
    }
   ],
   "source": [
    "pd.DataFrame(result).T.head()"
   ]
  },
  {
   "cell_type": "code",
   "execution_count": null,
   "metadata": {
    "collapsed": true
   },
   "outputs": [],
   "source": []
  },
  {
   "cell_type": "code",
   "execution_count": 157,
   "metadata": {
    "ExecuteTime": {
     "end_time": "2018-11-21T12:54:55.467478Z",
     "start_time": "2018-11-21T12:54:55.432625Z"
    },
    "collapsed": true
   },
   "outputs": [],
   "source": [
    "# do not forget for tests !\n",
    "get_product_info.cache_clear()"
   ]
  },
  {
   "cell_type": "code",
   "execution_count": 158,
   "metadata": {
    "ExecuteTime": {
     "end_time": "2018-11-21T12:55:16.371951Z",
     "start_time": "2018-11-21T12:55:00.836635Z"
    },
    "scrolled": true
   },
   "outputs": [
    {
     "name": "stdout",
     "output_type": "stream",
     "text": [
      "computed 0 lines in 0:00:02.950\n",
      "computed 10 lines in 0:00:05.312\n",
      "computed 20 lines in 0:00:06.745\n",
      "computed 30 lines in 0:00:06.925\n",
      "computed 40 lines in 0:00:11.869\n",
      "computed 50 lines in 0:00:12.718\n",
      "computed 60 lines in 0:00:12.938\n",
      "computed 70 lines in 0:00:13.738\n",
      "computed 80 lines in 0:00:14.009\n",
      "computed 90 lines in 0:00:14.618\n",
      "computed 100 lines in 0:00:14.746\n",
      "whole time =  0:00:15.446448\n"
     ]
    }
   ],
   "source": [
    "CONNECTIONS = 20\n",
    "time_begin = datetime.datetime.now()\n",
    "result = {}\n",
    "\n",
    "with concurrent.futures.ProcessPoolExecutor(max_workers=CONNECTIONS) as executor:\n",
    "    \n",
    "    dicts_with_result = {executor.submit(get_product_info, idx): idx \n",
    "                   for idx in prd_ids}\n",
    "    \n",
    "    for i, future in enumerate(concurrent.futures.as_completed(dicts_with_result)):\n",
    "        if i % 10 == 0:\n",
    "            print ('computed %d lines in %s' % (i, str(datetime.datetime.now() - time_begin)[:11]))\n",
    "        try:\n",
    "            data = future.result()\n",
    "            result[data['idx']] = data\n",
    "        except Exception as exc:\n",
    "            print (exc, i, future)\n",
    "        finally:\n",
    "            pass\n",
    "        \n",
    "time_end = datetime.datetime.now()\n",
    "\n",
    "print('whole time = ', time_end-time_begin)"
   ]
  },
  {
   "cell_type": "code",
   "execution_count": 159,
   "metadata": {
    "ExecuteTime": {
     "end_time": "2018-11-21T12:55:16.508578Z",
     "start_time": "2018-11-21T12:55:16.376451Z"
    }
   },
   "outputs": [
    {
     "data": {
      "text/html": [
       "<div>\n",
       "<style scoped>\n",
       "    .dataframe tbody tr th:only-of-type {\n",
       "        vertical-align: middle;\n",
       "    }\n",
       "\n",
       "    .dataframe tbody tr th {\n",
       "        vertical-align: top;\n",
       "    }\n",
       "\n",
       "    .dataframe thead th {\n",
       "        text-align: right;\n",
       "    }\n",
       "</style>\n",
       "<table border=\"1\" class=\"dataframe\">\n",
       "  <thead>\n",
       "    <tr style=\"text-align: right;\">\n",
       "      <th></th>\n",
       "      <th>idx</th>\n",
       "      <th>price</th>\n",
       "      <th>rating</th>\n",
       "      <th>title</th>\n",
       "    </tr>\n",
       "  </thead>\n",
       "  <tbody>\n",
       "    <tr>\n",
       "      <th>41ccd8d7-1514-4534-9958-beb7a1ee9797</th>\n",
       "      <td>41ccd8d7-1514-4534-9958-beb7a1ee9797</td>\n",
       "      <td>131</td>\n",
       "      <td>82114</td>\n",
       "      <td>Беспроводные Bluetooth-наушники для мобильного...</td>\n",
       "    </tr>\n",
       "    <tr>\n",
       "      <th>2ea3a39f-7f96-4e45-b04a-7f7349100f6b</th>\n",
       "      <td>2ea3a39f-7f96-4e45-b04a-7f7349100f6b</td>\n",
       "      <td>34</td>\n",
       "      <td>27148</td>\n",
       "      <td>Подставка для мобильного телефона</td>\n",
       "    </tr>\n",
       "    <tr>\n",
       "      <th>3e5348a1-add0-410e-9ef6-5f919ca65a3f</th>\n",
       "      <td>3e5348a1-add0-410e-9ef6-5f919ca65a3f</td>\n",
       "      <td>35</td>\n",
       "      <td>734</td>\n",
       "      <td>Прозрачный силиконовый защитный чехол для iPho...</td>\n",
       "    </tr>\n",
       "    <tr>\n",
       "      <th>592d4b46-e7b5-4a06-86f8-0fda04047918</th>\n",
       "      <td>592d4b46-e7b5-4a06-86f8-0fda04047918</td>\n",
       "      <td>81</td>\n",
       "      <td>2103</td>\n",
       "      <td>Кабель usb с магнитным разъемом Type-C / Micro...</td>\n",
       "    </tr>\n",
       "    <tr>\n",
       "      <th>5600652c-ce34-41c1-9f57-1066eb8a0e6c</th>\n",
       "      <td>5600652c-ce34-41c1-9f57-1066eb8a0e6c</td>\n",
       "      <td>58</td>\n",
       "      <td>448</td>\n",
       "      <td>Прозрачный чехол для iPhone 5, 5s, SE, 6, 6S, ...</td>\n",
       "    </tr>\n",
       "  </tbody>\n",
       "</table>\n",
       "</div>"
      ],
      "text/plain": [
       "                                                                       idx  \\\n",
       "41ccd8d7-1514-4534-9958-beb7a1ee9797  41ccd8d7-1514-4534-9958-beb7a1ee9797   \n",
       "2ea3a39f-7f96-4e45-b04a-7f7349100f6b  2ea3a39f-7f96-4e45-b04a-7f7349100f6b   \n",
       "3e5348a1-add0-410e-9ef6-5f919ca65a3f  3e5348a1-add0-410e-9ef6-5f919ca65a3f   \n",
       "592d4b46-e7b5-4a06-86f8-0fda04047918  592d4b46-e7b5-4a06-86f8-0fda04047918   \n",
       "5600652c-ce34-41c1-9f57-1066eb8a0e6c  5600652c-ce34-41c1-9f57-1066eb8a0e6c   \n",
       "\n",
       "                                     price rating  \\\n",
       "41ccd8d7-1514-4534-9958-beb7a1ee9797   131  82114   \n",
       "2ea3a39f-7f96-4e45-b04a-7f7349100f6b    34  27148   \n",
       "3e5348a1-add0-410e-9ef6-5f919ca65a3f    35    734   \n",
       "592d4b46-e7b5-4a06-86f8-0fda04047918    81   2103   \n",
       "5600652c-ce34-41c1-9f57-1066eb8a0e6c    58    448   \n",
       "\n",
       "                                                                                  title  \n",
       "41ccd8d7-1514-4534-9958-beb7a1ee9797  Беспроводные Bluetooth-наушники для мобильного...  \n",
       "2ea3a39f-7f96-4e45-b04a-7f7349100f6b                  Подставка для мобильного телефона  \n",
       "3e5348a1-add0-410e-9ef6-5f919ca65a3f  Прозрачный силиконовый защитный чехол для iPho...  \n",
       "592d4b46-e7b5-4a06-86f8-0fda04047918  Кабель usb с магнитным разъемом Type-C / Micro...  \n",
       "5600652c-ce34-41c1-9f57-1066eb8a0e6c  Прозрачный чехол для iPhone 5, 5s, SE, 6, 6S, ...  "
      ]
     },
     "execution_count": 159,
     "metadata": {},
     "output_type": "execute_result"
    }
   ],
   "source": [
    "pd.DataFrame(result).T.head()"
   ]
  },
  {
   "cell_type": "code",
   "execution_count": null,
   "metadata": {
    "collapsed": true
   },
   "outputs": [],
   "source": []
  },
  {
   "cell_type": "markdown",
   "metadata": {},
   "source": [
    "> много процессов - плохо!"
   ]
  },
  {
   "cell_type": "code",
   "execution_count": null,
   "metadata": {
    "collapsed": true
   },
   "outputs": [],
   "source": []
  },
  {
   "cell_type": "code",
   "execution_count": null,
   "metadata": {
    "collapsed": true
   },
   "outputs": [],
   "source": []
  },
  {
   "cell_type": "code",
   "execution_count": null,
   "metadata": {
    "collapsed": true
   },
   "outputs": [],
   "source": []
  },
  {
   "cell_type": "markdown",
   "metadata": {},
   "source": [
    "___________-"
   ]
  },
  {
   "cell_type": "markdown",
   "metadata": {},
   "source": [
    "Ск:чно. Давайте зарешаем мльную задачу - классификация категории объявления - для чего может понадобиться?"
   ]
  },
  {
   "cell_type": "raw",
   "metadata": {
    "ExecuteTime": {
     "end_time": "2018-11-21T09:44:08.147671Z",
     "start_time": "2018-11-21T09:44:04.650109Z"
    }
   },
   "source": [
    "!unzip data.zip"
   ]
  },
  {
   "cell_type": "raw",
   "metadata": {},
   "source": [
    "!pip install pymorphy2"
   ]
  },
  {
   "cell_type": "code",
   "execution_count": 162,
   "metadata": {
    "ExecuteTime": {
     "end_time": "2018-11-21T12:58:12.085839Z",
     "start_time": "2018-11-21T12:58:12.082259Z"
    },
    "collapsed": true
   },
   "outputs": [],
   "source": [
    "import re\n",
    "import pymorphy2\n",
    "from functools import lru_cache"
   ]
  },
  {
   "cell_type": "code",
   "execution_count": 163,
   "metadata": {
    "ExecuteTime": {
     "end_time": "2018-11-21T12:58:12.235736Z",
     "start_time": "2018-11-21T12:58:12.231957Z"
    },
    "collapsed": true
   },
   "outputs": [],
   "source": [
    "import numpy as np\n",
    "import pandas as pd"
   ]
  },
  {
   "cell_type": "code",
   "execution_count": 180,
   "metadata": {
    "ExecuteTime": {
     "end_time": "2018-11-21T13:00:44.861395Z",
     "start_time": "2018-11-21T13:00:44.857430Z"
    },
    "collapsed": true
   },
   "outputs": [],
   "source": [
    "from multiprocessing import Pool"
   ]
  },
  {
   "cell_type": "code",
   "execution_count": 208,
   "metadata": {
    "ExecuteTime": {
     "end_time": "2018-11-21T13:15:47.930139Z",
     "start_time": "2018-11-21T13:15:44.024565Z"
    },
    "collapsed": true
   },
   "outputs": [],
   "source": [
    "data = pd.read_csv('data/train.csv')"
   ]
  },
  {
   "cell_type": "code",
   "execution_count": 166,
   "metadata": {
    "ExecuteTime": {
     "end_time": "2018-11-21T12:58:16.449122Z",
     "start_time": "2018-11-21T12:58:16.423105Z"
    },
    "scrolled": true
   },
   "outputs": [
    {
     "data": {
      "text/html": [
       "<div>\n",
       "<style scoped>\n",
       "    .dataframe tbody tr th:only-of-type {\n",
       "        vertical-align: middle;\n",
       "    }\n",
       "\n",
       "    .dataframe tbody tr th {\n",
       "        vertical-align: top;\n",
       "    }\n",
       "\n",
       "    .dataframe thead th {\n",
       "        text-align: right;\n",
       "    }\n",
       "</style>\n",
       "<table border=\"1\" class=\"dataframe\">\n",
       "  <thead>\n",
       "    <tr style=\"text-align: right;\">\n",
       "      <th></th>\n",
       "      <th>item_id</th>\n",
       "      <th>title</th>\n",
       "      <th>description</th>\n",
       "      <th>price</th>\n",
       "      <th>category_id</th>\n",
       "    </tr>\n",
       "  </thead>\n",
       "  <tbody>\n",
       "    <tr>\n",
       "      <th>0</th>\n",
       "      <td>0</td>\n",
       "      <td>Картина</td>\n",
       "      <td>Гобелен. Размеры 139х84см.</td>\n",
       "      <td>1000.0</td>\n",
       "      <td>19</td>\n",
       "    </tr>\n",
       "    <tr>\n",
       "      <th>1</th>\n",
       "      <td>1</td>\n",
       "      <td>Стулья из прессованной кожи</td>\n",
       "      <td>Продам недорого 4 стула из светлой прессованно...</td>\n",
       "      <td>1250.0</td>\n",
       "      <td>22</td>\n",
       "    </tr>\n",
       "    <tr>\n",
       "      <th>2</th>\n",
       "      <td>2</td>\n",
       "      <td>Домашняя мини баня</td>\n",
       "      <td>Мини баня МБ-1(мини сауна), предназначена для ...</td>\n",
       "      <td>13000.0</td>\n",
       "      <td>37</td>\n",
       "    </tr>\n",
       "    <tr>\n",
       "      <th>3</th>\n",
       "      <td>3</td>\n",
       "      <td>Эксклюзивная коллекция книг \"Трансаэро\" + подарок</td>\n",
       "      <td>Продам эксклюзивную коллекцию книг, выпущенную...</td>\n",
       "      <td>4000.0</td>\n",
       "      <td>43</td>\n",
       "    </tr>\n",
       "    <tr>\n",
       "      <th>4</th>\n",
       "      <td>4</td>\n",
       "      <td>Ноутбук aser</td>\n",
       "      <td>Продаётся ноутбук ACER e5-511C2TA. Куплен в ко...</td>\n",
       "      <td>19000.0</td>\n",
       "      <td>1</td>\n",
       "    </tr>\n",
       "  </tbody>\n",
       "</table>\n",
       "</div>"
      ],
      "text/plain": [
       "   item_id                                              title  \\\n",
       "0        0                                            Картина   \n",
       "1        1                        Стулья из прессованной кожи   \n",
       "2        2                                 Домашняя мини баня   \n",
       "3        3  Эксклюзивная коллекция книг \"Трансаэро\" + подарок   \n",
       "4        4                                       Ноутбук aser   \n",
       "\n",
       "                                         description    price  category_id  \n",
       "0                         Гобелен. Размеры 139х84см.   1000.0           19  \n",
       "1  Продам недорого 4 стула из светлой прессованно...   1250.0           22  \n",
       "2  Мини баня МБ-1(мини сауна), предназначена для ...  13000.0           37  \n",
       "3  Продам эксклюзивную коллекцию книг, выпущенную...   4000.0           43  \n",
       "4  Продаётся ноутбук ACER e5-511C2TA. Куплен в ко...  19000.0            1  "
      ]
     },
     "execution_count": 166,
     "metadata": {},
     "output_type": "execute_result"
    }
   ],
   "source": [
    "data.head()"
   ]
  },
  {
   "cell_type": "code",
   "execution_count": null,
   "metadata": {
    "collapsed": true
   },
   "outputs": [],
   "source": []
  },
  {
   "cell_type": "code",
   "execution_count": null,
   "metadata": {
    "collapsed": true
   },
   "outputs": [],
   "source": []
  },
  {
   "cell_type": "code",
   "execution_count": null,
   "metadata": {
    "collapsed": true
   },
   "outputs": [],
   "source": []
  },
  {
   "cell_type": "code",
   "execution_count": null,
   "metadata": {
    "collapsed": true
   },
   "outputs": [],
   "source": []
  },
  {
   "cell_type": "code",
   "execution_count": null,
   "metadata": {
    "collapsed": true
   },
   "outputs": [],
   "source": []
  },
  {
   "cell_type": "code",
   "execution_count": null,
   "metadata": {
    "collapsed": true
   },
   "outputs": [],
   "source": []
  },
  {
   "cell_type": "code",
   "execution_count": 167,
   "metadata": {
    "ExecuteTime": {
     "end_time": "2018-11-21T12:58:16.684400Z",
     "start_time": "2018-11-21T12:58:16.451726Z"
    },
    "collapsed": true
   },
   "outputs": [],
   "source": [
    "morph = pymorphy2.MorphAnalyzer()\n",
    "\n",
    "@lru_cache(maxsize=100000) # с кешом 14с против 1min 16s\n",
    "def get_normal_form (i):\n",
    "    return morph.normal_forms(i)[0]\n",
    "\n",
    "def normalize_text(x):\n",
    "    x = x[:200] \n",
    "    return ' '.join([get_normal_form(i) for i in re.findall('\\w+', x)])"
   ]
  },
  {
   "cell_type": "markdown",
   "metadata": {
    "ExecuteTime": {
     "end_time": "2018-11-21T10:09:17.180807Z",
     "start_time": "2018-11-21T10:09:17.038267Z"
    }
   },
   "source": [
    "TODO\n",
    "\n",
    "> попробуйте дома поиграться с тем какой прирост дает кеш, какой параллелирование.\n"
   ]
  },
  {
   "cell_type": "code",
   "execution_count": 168,
   "metadata": {
    "ExecuteTime": {
     "end_time": "2018-11-21T12:58:16.694109Z",
     "start_time": "2018-11-21T12:58:16.687578Z"
    }
   },
   "outputs": [
    {
     "data": {
      "text/plain": [
       "'стул'"
      ]
     },
     "execution_count": 168,
     "metadata": {},
     "output_type": "execute_result"
    }
   ],
   "source": [
    "get_normal_form('стулья')"
   ]
  },
  {
   "cell_type": "code",
   "execution_count": 169,
   "metadata": {
    "ExecuteTime": {
     "end_time": "2018-11-21T12:58:16.709872Z",
     "start_time": "2018-11-21T12:58:16.697591Z"
    }
   },
   "outputs": [
    {
     "data": {
      "text/plain": [
       "'стул из прессовать кожа 23432 рубль'"
      ]
     },
     "execution_count": 169,
     "metadata": {},
     "output_type": "execute_result"
    }
   ],
   "source": [
    "normalize_text('Стулья из прессованной кожи 23432 руб.')"
   ]
  },
  {
   "cell_type": "code",
   "execution_count": 170,
   "metadata": {
    "ExecuteTime": {
     "end_time": "2018-11-21T12:58:17.843243Z",
     "start_time": "2018-11-21T12:58:17.827775Z"
    }
   },
   "outputs": [
    {
     "data": {
      "text/plain": [
       "0                                           картина\n",
       "1                           стул из прессовать кожа\n",
       "2                                домашний минь баня\n",
       "3    эксклюзивный коллекция книга трансаэро подарок\n",
       "4                                      ноутбук aser\n",
       "Name: title, dtype: object"
      ]
     },
     "execution_count": 170,
     "metadata": {},
     "output_type": "execute_result"
    }
   ],
   "source": [
    "data.head().title.apply(lambda x: normalize_text(x))"
   ]
  },
  {
   "cell_type": "code",
   "execution_count": 171,
   "metadata": {
    "ExecuteTime": {
     "end_time": "2018-11-21T12:58:58.369575Z",
     "start_time": "2018-11-21T12:58:18.276253Z"
    }
   },
   "outputs": [
    {
     "name": "stdout",
     "output_type": "stream",
     "text": [
      "CPU times: user 39.9 s, sys: 136 ms, total: 40 s\n",
      "Wall time: 40.1 s\n"
     ]
    }
   ],
   "source": [
    "%%time\n",
    "\n",
    "_ = data.title.apply(lambda x: normalize_text(x))"
   ]
  },
  {
   "cell_type": "markdown",
   "metadata": {},
   "source": [
    "> ? как ускорить?"
   ]
  },
  {
   "cell_type": "code",
   "execution_count": 172,
   "metadata": {
    "ExecuteTime": {
     "end_time": "2018-11-21T12:58:58.421251Z",
     "start_time": "2018-11-21T12:58:58.371603Z"
    },
    "collapsed": true
   },
   "outputs": [],
   "source": [
    "get_normal_form.cache_clear() # чтобы быть честными!"
   ]
  },
  {
   "cell_type": "code",
   "execution_count": 35,
   "metadata": {
    "ExecuteTime": {
     "end_time": "2018-11-21T10:53:57.483546Z",
     "start_time": "2018-11-21T10:53:44.526721Z"
    }
   },
   "outputs": [
    {
     "name": "stdout",
     "output_type": "stream",
     "text": [
      "CPU times: user 12.9 s, sys: 48 ms, total: 12.9 s\n",
      "Wall time: 12.9 s\n"
     ]
    }
   ],
   "source": [
    "%%time\n",
    "\n",
    "_ = data.head(100000).title.apply(lambda x: normalize_text(x))"
   ]
  },
  {
   "cell_type": "code",
   "execution_count": 173,
   "metadata": {
    "ExecuteTime": {
     "end_time": "2018-11-21T12:59:02.234440Z",
     "start_time": "2018-11-21T12:59:02.225626Z"
    },
    "collapsed": true
   },
   "outputs": [],
   "source": [
    "get_normal_form.cache_clear()"
   ]
  },
  {
   "cell_type": "code",
   "execution_count": 174,
   "metadata": {
    "ExecuteTime": {
     "end_time": "2018-11-21T12:59:29.685620Z",
     "start_time": "2018-11-21T12:59:17.000418Z"
    }
   },
   "outputs": [
    {
     "name": "stdout",
     "output_type": "stream",
     "text": [
      "CPU times: user 109 ms, sys: 96 ms, total: 205 ms\n",
      "Wall time: 12.7 s\n"
     ]
    }
   ],
   "source": [
    "%%time\n",
    "with Pool(processes=1) as pool:\n",
    "    _ = pool.map(normalize_text, data.head(100000).title)\n",
    "    pool.terminate()"
   ]
  },
  {
   "cell_type": "code",
   "execution_count": 175,
   "metadata": {
    "ExecuteTime": {
     "end_time": "2018-11-21T12:59:29.690595Z",
     "start_time": "2018-11-21T12:59:29.687817Z"
    },
    "collapsed": true
   },
   "outputs": [],
   "source": [
    "get_normal_form.cache_clear()"
   ]
  },
  {
   "cell_type": "code",
   "execution_count": 176,
   "metadata": {
    "ExecuteTime": {
     "end_time": "2018-11-21T12:59:39.197534Z",
     "start_time": "2018-11-21T12:59:29.692421Z"
    }
   },
   "outputs": [
    {
     "name": "stdout",
     "output_type": "stream",
     "text": [
      "CPU times: user 92.4 ms, sys: 192 ms, total: 285 ms\n",
      "Wall time: 9.49 s\n"
     ]
    }
   ],
   "source": [
    "%%time\n",
    "with Pool(processes=4) as pool:\n",
    "    _ = pool.map(normalize_text, data.head(100000).title)\n",
    "    pool.terminate()"
   ]
  },
  {
   "cell_type": "code",
   "execution_count": 177,
   "metadata": {
    "ExecuteTime": {
     "end_time": "2018-11-21T12:59:39.207734Z",
     "start_time": "2018-11-21T12:59:39.201103Z"
    },
    "collapsed": true
   },
   "outputs": [],
   "source": [
    "get_normal_form.cache_clear()"
   ]
  },
  {
   "cell_type": "code",
   "execution_count": 178,
   "metadata": {
    "ExecuteTime": {
     "end_time": "2018-11-21T12:59:54.302768Z",
     "start_time": "2018-11-21T12:59:39.210682Z"
    }
   },
   "outputs": [
    {
     "name": "stdout",
     "output_type": "stream",
     "text": [
      "CPU times: user 141 ms, sys: 681 ms, total: 822 ms\n",
      "Wall time: 15.1 s\n"
     ]
    }
   ],
   "source": [
    "%%time\n",
    "with Pool(processes=20) as pool:\n",
    "    _ = pool.map(normalize_text, data.head(100000).title)\n",
    "    pool.terminate()"
   ]
  },
  {
   "cell_type": "code",
   "execution_count": 195,
   "metadata": {
    "ExecuteTime": {
     "end_time": "2018-11-21T13:08:37.570499Z",
     "start_time": "2018-11-21T13:08:37.562089Z"
    },
    "collapsed": true
   },
   "outputs": [],
   "source": [
    "get_normal_form.cache_clear()"
   ]
  },
  {
   "cell_type": "markdown",
   "metadata": {},
   "source": [
    "##### Советы по оптимизации кода!\n",
    "https://scikit-learn.org/stable/developers/performance.html"
   ]
  },
  {
   "cell_type": "code",
   "execution_count": 1,
   "metadata": {
    "ExecuteTime": {
     "end_time": "2018-11-21T13:19:15.602191Z",
     "start_time": "2018-11-21T13:19:15.589436Z"
    },
    "collapsed": true
   },
   "outputs": [],
   "source": [
    "from sklearn.externals.joblib import Parallel, delayed\n",
    "\n",
    "# https://joblib.readthedocs.io/en/latest/"
   ]
  },
  {
   "cell_type": "code",
   "execution_count": 214,
   "metadata": {
    "ExecuteTime": {
     "end_time": "2018-11-21T13:19:15.875024Z",
     "start_time": "2018-11-21T13:19:15.864615Z"
    },
    "collapsed": true
   },
   "outputs": [],
   "source": [
    "# parallel_proc = Parallel(n_jobs=10, backend='threading', verbose=1)\n",
    "\n",
    "parallel_proc = Parallel(n_jobs=-1, backend='multiprocessing', verbose=1)\n",
    "our_preprocessing_func = delayed(normalize_text)"
   ]
  },
  {
   "cell_type": "code",
   "execution_count": 215,
   "metadata": {
    "ExecuteTime": {
     "end_time": "2018-11-21T13:19:26.476260Z",
     "start_time": "2018-11-21T13:19:16.594093Z"
    },
    "scrolled": true
   },
   "outputs": [
    {
     "name": "stderr",
     "output_type": "stream",
     "text": [
      "[Parallel(n_jobs=-1)]: Done 12180 tasks      | elapsed:    2.1s\n",
      "[Parallel(n_jobs=-1)]: Done 77880 tasks      | elapsed:    7.9s\n"
     ]
    },
    {
     "name": "stdout",
     "output_type": "stream",
     "text": [
      "CPU times: user 671 ms, sys: 172 ms, total: 843 ms\n",
      "Wall time: 9.86 s\n"
     ]
    },
    {
     "name": "stderr",
     "output_type": "stream",
     "text": [
      "[Parallel(n_jobs=-1)]: Done 100000 out of 100000 | elapsed:    9.3s finished\n"
     ]
    }
   ],
   "source": [
    "%%time\n",
    "\n",
    "res = parallel_proc( our_preprocessing_func(query) \n",
    "                    for query in data.head(100000).title.values)"
   ]
  },
  {
   "cell_type": "raw",
   "metadata": {},
   "source": [
    "data['title_parse'] = res"
   ]
  },
  {
   "cell_type": "code",
   "execution_count": 216,
   "metadata": {
    "ExecuteTime": {
     "end_time": "2018-11-21T13:19:49.276955Z",
     "start_time": "2018-11-21T13:19:26.479057Z"
    },
    "collapsed": true
   },
   "outputs": [
    {
     "name": "stderr",
     "output_type": "stream",
     "text": [
      "[Parallel(n_jobs=-1)]: Done  42 tasks      | elapsed:    0.0s\n",
      "[Parallel(n_jobs=-1)]: Done 192 tasks      | elapsed:    0.1s\n",
      "[Parallel(n_jobs=-1)]: Done 442 tasks      | elapsed:    0.3s\n",
      "[Parallel(n_jobs=-1)]: Done 792 tasks      | elapsed:    0.5s\n",
      "[Parallel(n_jobs=-1)]: Done 1242 tasks      | elapsed:    0.7s\n",
      "[Parallel(n_jobs=-1)]: Done 1792 tasks      | elapsed:    0.9s\n",
      "[Parallel(n_jobs=-1)]: Done 2442 tasks      | elapsed:    1.2s\n",
      "[Parallel(n_jobs=-1)]: Done 3192 tasks      | elapsed:    1.4s\n",
      "[Parallel(n_jobs=-1)]: Done 4042 tasks      | elapsed:    1.7s\n",
      "[Parallel(n_jobs=-1)]: Done 4992 tasks      | elapsed:    2.0s\n",
      "[Parallel(n_jobs=-1)]: Done 6042 tasks      | elapsed:    2.3s\n",
      "[Parallel(n_jobs=-1)]: Done 7192 tasks      | elapsed:    2.7s\n",
      "[Parallel(n_jobs=-1)]: Done 8442 tasks      | elapsed:    3.1s\n",
      "[Parallel(n_jobs=-1)]: Done 9792 tasks      | elapsed:    3.5s\n",
      "[Parallel(n_jobs=-1)]: Done 11242 tasks      | elapsed:    3.9s\n",
      "[Parallel(n_jobs=-1)]: Done 12792 tasks      | elapsed:    4.3s\n",
      "[Parallel(n_jobs=-1)]: Done 14442 tasks      | elapsed:    4.8s\n",
      "[Parallel(n_jobs=-1)]: Done 16192 tasks      | elapsed:    5.2s\n",
      "[Parallel(n_jobs=-1)]: Done 18042 tasks      | elapsed:    5.6s\n",
      "[Parallel(n_jobs=-1)]: Done 19992 tasks      | elapsed:    6.1s\n",
      "[Parallel(n_jobs=-1)]: Done 22042 tasks      | elapsed:    6.7s\n",
      "[Parallel(n_jobs=-1)]: Done 24192 tasks      | elapsed:    7.2s\n",
      "[Parallel(n_jobs=-1)]: Done 26442 tasks      | elapsed:    7.7s\n",
      "[Parallel(n_jobs=-1)]: Done 28792 tasks      | elapsed:    8.2s\n",
      "[Parallel(n_jobs=-1)]: Done 31242 tasks      | elapsed:    8.8s\n",
      "[Parallel(n_jobs=-1)]: Done 33792 tasks      | elapsed:    9.3s\n",
      "[Parallel(n_jobs=-1)]: Done 36442 tasks      | elapsed:    9.8s\n",
      "[Parallel(n_jobs=-1)]: Done 39192 tasks      | elapsed:   10.4s\n",
      "[Parallel(n_jobs=-1)]: Done 42042 tasks      | elapsed:   11.0s\n",
      "[Parallel(n_jobs=-1)]: Done 44992 tasks      | elapsed:   11.7s\n",
      "[Parallel(n_jobs=-1)]: Done 48042 tasks      | elapsed:   12.3s\n",
      "[Parallel(n_jobs=-1)]: Done 51192 tasks      | elapsed:   13.0s\n",
      "[Parallel(n_jobs=-1)]: Done 54442 tasks      | elapsed:   13.7s\n",
      "[Parallel(n_jobs=-1)]: Done 57792 tasks      | elapsed:   14.4s\n",
      "[Parallel(n_jobs=-1)]: Done 61242 tasks      | elapsed:   15.1s\n",
      "[Parallel(n_jobs=-1)]: Done 64792 tasks      | elapsed:   15.8s\n",
      "[Parallel(n_jobs=-1)]: Done 68442 tasks      | elapsed:   16.5s\n",
      "[Parallel(n_jobs=-1)]: Done 72192 tasks      | elapsed:   17.3s\n",
      "[Parallel(n_jobs=-1)]: Done 76042 tasks      | elapsed:   18.0s\n",
      "[Parallel(n_jobs=-1)]: Done 79992 tasks      | elapsed:   18.6s\n",
      "[Parallel(n_jobs=-1)]: Done 84042 tasks      | elapsed:   19.3s\n",
      "[Parallel(n_jobs=-1)]: Done 88192 tasks      | elapsed:   20.2s\n",
      "[Parallel(n_jobs=-1)]: Done 92442 tasks      | elapsed:   21.2s\n",
      "[Parallel(n_jobs=-1)]: Done 96792 tasks      | elapsed:   22.0s\n"
     ]
    },
    {
     "name": "stdout",
     "output_type": "stream",
     "text": [
      "CPU times: user 22.3 s, sys: 882 ms, total: 23.2 s\n",
      "Wall time: 22.8 s\n"
     ]
    },
    {
     "name": "stderr",
     "output_type": "stream",
     "text": [
      "[Parallel(n_jobs=-1)]: Done 100000 out of 100000 | elapsed:   22.7s finished\n"
     ]
    }
   ],
   "source": [
    "%%time\n",
    "\n",
    "parallel_proc = Parallel(n_jobs=-1, backend='threading', verbose=1)\n",
    "res = parallel_proc( our_preprocessing_func(query) for query in data.head(100000).title.values)"
   ]
  },
  {
   "cell_type": "code",
   "execution_count": null,
   "metadata": {
    "collapsed": true
   },
   "outputs": [],
   "source": []
  },
  {
   "cell_type": "code",
   "execution_count": 217,
   "metadata": {
    "ExecuteTime": {
     "end_time": "2018-11-21T13:20:34.586936Z",
     "start_time": "2018-11-21T13:20:13.467740Z"
    }
   },
   "outputs": [
    {
     "name": "stdout",
     "output_type": "stream",
     "text": [
      "computed 0 lines in 0:00:20.676\n",
      "computed 20000 lines in 0:00:20.726\n",
      "computed 40000 lines in 0:00:20.774\n",
      "computed 60000 lines in 0:00:20.822\n",
      "computed 80000 lines in 0:00:20.870\n",
      "CPU times: user 20.8 s, sys: 986 ms, total: 21.8 s\n",
      "Wall time: 21.1 s\n"
     ]
    }
   ],
   "source": [
    "%%time\n",
    "\n",
    "get_normal_form.cache_clear()\n",
    "CONNECTIONS = 4\n",
    "res = {}\n",
    "\n",
    "time_begin = datetime.datetime.now()\n",
    "\n",
    "with concurrent.futures.ThreadPoolExecutor(max_workers=CONNECTIONS) as executor:\n",
    "    \n",
    "    dicts_with_result = {executor.submit(normalize_text, idx): idx for idx in data.head(100000).title}\n",
    "    \n",
    "    for i, future in enumerate(concurrent.futures.as_completed(dicts_with_result)):\n",
    "        data_ = future.result()\n",
    "        #res[i] = data_\n",
    "        \n",
    "        if i % 20000 == 0:\n",
    "            print ('computed %d lines in %s' % (i, str(datetime.datetime.now() - time_begin)[:11]))"
   ]
  },
  {
   "cell_type": "code",
   "execution_count": null,
   "metadata": {
    "collapsed": true
   },
   "outputs": [],
   "source": []
  },
  {
   "cell_type": "code",
   "execution_count": 218,
   "metadata": {
    "ExecuteTime": {
     "end_time": "2018-11-21T13:21:07.938645Z",
     "start_time": "2018-11-21T13:20:34.589437Z"
    }
   },
   "outputs": [
    {
     "name": "stdout",
     "output_type": "stream",
     "text": [
      "computed 0 lines in 0:00:10.082\n",
      "computed 20000 lines in 0:00:14.353\n",
      "computed 40000 lines in 0:00:18.647\n",
      "computed 60000 lines in 0:00:23.112\n",
      "computed 80000 lines in 0:00:28.157\n",
      "CPU times: user 25.8 s, sys: 4.43 s, total: 30.2 s\n",
      "Wall time: 33.3 s\n"
     ]
    }
   ],
   "source": [
    "%%time\n",
    "\n",
    "get_normal_form.cache_clear()\n",
    "CONNECTIONS = 4\n",
    "res = {}\n",
    "\n",
    "time_begin = datetime.datetime.now()\n",
    "\n",
    "with concurrent.futures.ProcessPoolExecutor(max_workers=CONNECTIONS) as executor:\n",
    "    \n",
    "    dicts_with_result = {executor.submit(normalize_text, idx): idx for idx in data.head(100000).title}\n",
    "    for i, future in enumerate(concurrent.futures.as_completed(dicts_with_result)):\n",
    "        \n",
    "        data_ = future.result()\n",
    "        # res[i] = data_\n",
    "        \n",
    "        if i % 20000 == 0:\n",
    "            print ('computed %d lines in %s' % (i, str(datetime.datetime.now() - time_begin)[:11]))"
   ]
  },
  {
   "cell_type": "code",
   "execution_count": null,
   "metadata": {
    "collapsed": true
   },
   "outputs": [],
   "source": []
  },
  {
   "cell_type": "code",
   "execution_count": null,
   "metadata": {
    "collapsed": true
   },
   "outputs": [],
   "source": []
  },
  {
   "cell_type": "markdown",
   "metadata": {},
   "source": [
    "Ответ:"
   ]
  },
  {
   "cell_type": "code",
   "execution_count": 9,
   "metadata": {
    "ExecuteTime": {
     "end_time": "2018-11-21T09:55:11.318287Z",
     "start_time": "2018-11-21T09:54:45.048620Z"
    },
    "scrolled": true
   },
   "outputs": [
    {
     "name": "stdout",
     "output_type": "stream",
     "text": [
      "CPU times: user 539 ms, sys: 163 ms, total: 702 ms\n",
      "Wall time: 26.3 s\n"
     ]
    }
   ],
   "source": [
    "%%time\n",
    "with Pool(processes=4) as pool:\n",
    "    data['title_parse'] = pool.map(normalize_text, data.title)\n",
    "    pool.terminate()"
   ]
  },
  {
   "cell_type": "code",
   "execution_count": 10,
   "metadata": {
    "ExecuteTime": {
     "end_time": "2018-11-21T09:56:38.065115Z",
     "start_time": "2018-11-21T09:55:11.324292Z"
    }
   },
   "outputs": [
    {
     "name": "stdout",
     "output_type": "stream",
     "text": [
      "CPU times: user 1.75 s, sys: 563 ms, total: 2.31 s\n",
      "Wall time: 1min 26s\n"
     ]
    }
   ],
   "source": [
    "%%time\n",
    "with Pool(processes=4) as pool:\n",
    "    data['description_parse'] = pool.map(normalize_text, data.description)\n",
    "    pool.terminate()"
   ]
  },
  {
   "cell_type": "code",
   "execution_count": 11,
   "metadata": {
    "ExecuteTime": {
     "end_time": "2018-11-21T09:56:38.550997Z",
     "start_time": "2018-11-21T09:56:38.067050Z"
    },
    "collapsed": true
   },
   "outputs": [
    {
     "name": "stderr",
     "output_type": "stream",
     "text": [
      "/home/amir/venv/ds_venv3.6/lib/python3.6/site-packages/sklearn/cross_validation.py:41: DeprecationWarning: This module was deprecated in version 0.18 in favor of the model_selection module into which all the refactored classes and functions are moved. Also note that the interface of the new CV iterators are different from that of this module. This module will be removed in 0.20.\n",
      "  \"This module will be removed in 0.20.\", DeprecationWarning)\n"
     ]
    }
   ],
   "source": [
    "import scipy.sparse as sp\n",
    "\n",
    "from sklearn.linear_model import LogisticRegression\n",
    "\n",
    "from sklearn.metrics import accuracy_score\n",
    "from sklearn.cross_validation import train_test_split\n",
    "from sklearn.feature_extraction.text import CountVectorizer"
   ]
  },
  {
   "cell_type": "code",
   "execution_count": 12,
   "metadata": {
    "ExecuteTime": {
     "end_time": "2018-11-21T09:56:55.116710Z",
     "start_time": "2018-11-21T09:56:38.553176Z"
    },
    "collapsed": true
   },
   "outputs": [],
   "source": [
    "vectorizer = CountVectorizer(max_features=1000, binary=True)\n",
    "title_features = vectorizer.fit_transform(data.title_parse)\n",
    "\n",
    "vectorizer2 = CountVectorizer(max_features=1000, binary=True)\n",
    "description_features = vectorizer.fit_transform(data.description_parse)\n",
    "\n",
    "features = sp.hstack([title_features, description_features,\n",
    "                      data[['price']] ])"
   ]
  },
  {
   "cell_type": "code",
   "execution_count": 13,
   "metadata": {
    "ExecuteTime": {
     "end_time": "2018-11-21T09:56:55.125402Z",
     "start_time": "2018-11-21T09:56:55.120029Z"
    }
   },
   "outputs": [
    {
     "data": {
      "text/plain": [
       "CountVectorizer(analyzer='word', binary=True, decode_error='strict',\n",
       "        dtype=<class 'numpy.int64'>, encoding='utf-8', input='content',\n",
       "        lowercase=True, max_df=1.0, max_features=1000, min_df=1,\n",
       "        ngram_range=(1, 1), preprocessor=None, stop_words=None,\n",
       "        strip_accents=None, token_pattern='(?u)\\\\b\\\\w\\\\w+\\\\b',\n",
       "        tokenizer=None, vocabulary=None)"
      ]
     },
     "execution_count": 13,
     "metadata": {},
     "output_type": "execute_result"
    }
   ],
   "source": [
    "vectorizer"
   ]
  },
  {
   "cell_type": "markdown",
   "metadata": {},
   "source": [
    "##### https://docs.scipy.org/doc/scipy/reference/sparse.html"
   ]
  },
  {
   "cell_type": "code",
   "execution_count": 14,
   "metadata": {
    "ExecuteTime": {
     "end_time": "2018-11-21T09:56:55.757424Z",
     "start_time": "2018-11-21T09:56:55.127929Z"
    },
    "collapsed": true
   },
   "outputs": [],
   "source": [
    "Xtrain, Xval, ytrain, yval = train_test_split(features, data.category_id, \n",
    "                                              random_state=241, test_size=0.33)"
   ]
  },
  {
   "cell_type": "code",
   "execution_count": 15,
   "metadata": {
    "ExecuteTime": {
     "end_time": "2018-11-21T09:56:55.764334Z",
     "start_time": "2018-11-21T09:56:55.760125Z"
    }
   },
   "outputs": [
    {
     "data": {
      "text/plain": [
       "<327976x2001 sparse matrix of type '<class 'numpy.float64'>'\n",
       "\twith 4430973 stored elements in Compressed Sparse Row format>"
      ]
     },
     "execution_count": 15,
     "metadata": {},
     "output_type": "execute_result"
    }
   ],
   "source": [
    "Xtrain.toarray()"
   ]
  },
  {
   "cell_type": "code",
   "execution_count": 16,
   "metadata": {
    "ExecuteTime": {
     "end_time": "2018-11-21T10:09:16.951519Z",
     "start_time": "2018-11-21T09:56:55.766518Z"
    }
   },
   "outputs": [
    {
     "name": "stdout",
     "output_type": "stream",
     "text": [
      "CPU times: user 12min 20s, sys: 366 ms, total: 12min 20s\n",
      "Wall time: 12min 21s\n"
     ]
    }
   ],
   "source": [
    "%%time\n",
    "\n",
    "clf = LogisticRegression()\n",
    "clf.fit(Xtrain, ytrain)\n",
    "y_pred = clf.predict(Xval)"
   ]
  },
  {
   "cell_type": "code",
   "execution_count": 17,
   "metadata": {
    "ExecuteTime": {
     "end_time": "2018-11-21T10:09:16.971778Z",
     "start_time": "2018-11-21T10:09:16.953486Z"
    }
   },
   "outputs": [
    {
     "data": {
      "text/plain": [
       "0.6691366278529909"
      ]
     },
     "execution_count": 17,
     "metadata": {},
     "output_type": "execute_result"
    }
   ],
   "source": [
    "accuracy_score(yval, y_pred)"
   ]
  },
  {
   "cell_type": "markdown",
   "metadata": {},
   "source": [
    "лучше? \n",
    "\n",
    "> топ 10к, 20к или больше частотных слов\n",
    "\n",
    "> почистить от шума (в, из, на, с, рублей, ...)\n",
    "\n",
    "> выделять важные слова для отдельных категорий\n",
    "\n",
    "> более сложные модели типа XGBoost or lgbm or catboost"
   ]
  },
  {
   "cell_type": "code",
   "execution_count": null,
   "metadata": {
    "collapsed": true
   },
   "outputs": [],
   "source": []
  },
  {
   "cell_type": "code",
   "execution_count": null,
   "metadata": {
    "collapsed": true
   },
   "outputs": [],
   "source": []
  },
  {
   "cell_type": "code",
   "execution_count": null,
   "metadata": {
    "collapsed": true
   },
   "outputs": [],
   "source": [
    "from multiprocessing import Pool\n",
    "\n",
    "from subprocess import Popen, PIPE \n",
    "# run, call, check_output,  <-- хотим из питона что нибудь вызвать."
   ]
  },
  {
   "cell_type": "code",
   "execution_count": null,
   "metadata": {
    "collapsed": true
   },
   "outputs": [],
   "source": [
    "def run_docker(cmd, container_name):  \n",
    "    try:\n",
    "        proc = Popen(cmd, shell=True, stdout=PIPE, stderr=PIPE)\n",
    "        _ = proc.wait()\n",
    "        if _!=0:\n",
    "            #print(proc.communicate())\n",
    "            print(proc.stdout())\n",
    "            return False\n",
    "    except Exception as e:\n",
    "        print (proc.communicate())\n",
    "        print (e)\n",
    "        proc_kill = Popen('docker stop '+ container_name, shell=True, stdout=PIPE)\n",
    "        proc_kill.wait()\n",
    "        proc_kill = Popen('docker rm ' + container_name, shell=True, stdout=PIPE)\n",
    "        proc_kill.wait()\n",
    "        proc.kill()\n",
    "        return False\n",
    "    return True\n",
    "\n",
    "DOCKER_NAME = 'brain_pipeline/frsrf_minc_fsl'\n",
    "\n",
    "def bet_brain_mask(docker_container_name, path_to_sourse, file_name):\n",
    "    return '''docker run --rm \\\n",
    "    --name {1} \\\n",
    "    -v {2}:/input \\\n",
    "    {0} \\\n",
    "    bash -c \". /etc/fsl/5.0/fsl.sh \\\n",
    "    && bet /input/{3} /input/brainmask_{3} -m -n -f .4\\\n",
    "    \" '''.format(DOCKER_NAME, # 0\n",
    "                 docker_container_name, # 1\n",
    "                 path_to_sourse, # 2\n",
    "                 file_name # 3\n",
    "                 )\n",
    "\n",
    "def run_for_patetnt(id_pat):\n",
    "    cmd = bet_brain_mask()\n",
    "    run_docker(cmd)\n",
    "\n",
    "\n",
    "with Pool(5) as pool:\n",
    "    result = pool.map(run_for_patetnt, tmp_arr[:20])"
   ]
  },
  {
   "cell_type": "code",
   "execution_count": null,
   "metadata": {
    "collapsed": true
   },
   "outputs": [],
   "source": []
  },
  {
   "cell_type": "markdown",
   "metadata": {},
   "source": [
    "Пример работы с очередями"
   ]
  },
  {
   "cell_type": "code",
   "execution_count": null,
   "metadata": {
    "collapsed": true
   },
   "outputs": [],
   "source": [
    "from multiprocessing import Process, Manager"
   ]
  },
  {
   "cell_type": "code",
   "execution_count": null,
   "metadata": {
    "collapsed": true
   },
   "outputs": [],
   "source": [
    "input_queue, output_queue = Manager().Queue(), Manager().Queue()\n",
    "\n",
    "gr = wrk_hf.groupby(\"Query\")\n",
    "\n",
    "for group in tqdm(gr.groups):\n",
    "    input_queue.put(gr.get_group(group))\n",
    "    \n",
    "jobs = []\n",
    "\n",
    "for i in tqdm(range(10)):\n",
    "    job = Process(target=dedublication, args=(input_queue, output_queue,))\n",
    "    job.start()\n",
    "    jobs.append(job)\n",
    "    \n",
    "print(\"Start joining\")\n",
    "for job in jobs:\n",
    "    job.join()\n",
    "    \n",
    "print(\"Start agreg\")\n",
    "df_j = []\n",
    "while not output_queue.empty():\n",
    "    df_j.append(output_queue.get(False))\n"
   ]
  },
  {
   "cell_type": "code",
   "execution_count": null,
   "metadata": {
    "collapsed": true
   },
   "outputs": [],
   "source": []
  }
 ],
 "metadata": {
  "kernelspec": {
   "display_name": "Python 3",
   "language": "python",
   "name": "python3"
  },
  "language_info": {
   "codemirror_mode": {
    "name": "ipython",
    "version": 3
   },
   "file_extension": ".py",
   "mimetype": "text/x-python",
   "name": "python",
   "nbconvert_exporter": "python",
   "pygments_lexer": "ipython3",
   "version": "3.5.0"
  }
 },
 "nbformat": 4,
 "nbformat_minor": 2
}
