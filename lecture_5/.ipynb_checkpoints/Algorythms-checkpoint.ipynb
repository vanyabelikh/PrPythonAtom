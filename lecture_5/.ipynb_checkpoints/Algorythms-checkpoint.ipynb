{
 "cells": [
  {
   "cell_type": "code",
   "execution_count": null,
   "metadata": {
    "collapsed": true
   },
   "outputs": [],
   "source": [
    "import pandas as pd\n",
    "import numpy as np"
   ]
  },
  {
   "cell_type": "code",
   "execution_count": 3,
   "metadata": {},
   "outputs": [],
   "source": [
    "class prefix_tree:\n",
    "    \n",
    "    def __init__(self):\n",
    "        self.root = [{}]\n",
    "        \n",
    "    def add(self, string):\n",
    "        if self.check(string):\n",
    "            return\n",
    "        root = self.root\n",
    "        for i in string:\n",
    "            if i in root[0]:\n",
    "                root = root[0][i]\n",
    "            else:\n",
    "                root[0][i] = [{}]\n",
    "                root = root[0][i]\n",
    "        root.append(True)\n",
    "                \n",
    "        #TODO добавить строку\n",
    "        \n",
    "    def check(self, string):\n",
    "        root = self.root\n",
    "        for i in string:\n",
    "            if i in root[0]:\n",
    "                root = root[0][i]\n",
    "            else:\n",
    "                return False\n",
    "        if len(root) != 1:\n",
    "            return True\n",
    "        return False\n",
    "                    \n",
    "        #TODO проверить наличие строки\n",
    "    \n",
    "    def check_part(self, string):\n",
    "        root = self.root\n",
    "        for i in string:\n",
    "            if i in root[0]:\n",
    "                root = root[0][i]\n",
    "            else:\n",
    "                return False\n",
    "        return True\n",
    "        #TODO проверить наличие строки как префикса"
   ]
  },
  {
   "cell_type": "code",
   "execution_count": 4,
   "metadata": {},
   "outputs": [],
   "source": [
    "pr_tree = prefix_tree()\n",
    "\n",
    "pr_tree.add(\"строка\")\n",
    "assert pr_tree.check(\"строка\")\n",
    "assert not pr_tree.check(\"строк\")\n",
    "assert not pr_tree.check(\"строка1\")\n",
    "assert pr_tree.check_part(\"строк\")"
   ]
  },
  {
   "cell_type": "code",
   "execution_count": null,
   "metadata": {},
   "outputs": [],
   "source": []
  }
 ],
 "metadata": {
  "anaconda-cloud": {},
  "kernelspec": {
   "display_name": "Python 3",
   "language": "python",
   "name": "python3"
  },
  "language_info": {
   "codemirror_mode": {
    "name": "ipython",
    "version": 3
   },
   "file_extension": ".py",
   "mimetype": "text/x-python",
   "name": "python",
   "nbconvert_exporter": "python",
   "pygments_lexer": "ipython3",
   "version": "3.6.5"
  }
 },
 "nbformat": 4,
 "nbformat_minor": 1
}
