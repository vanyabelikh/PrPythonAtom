{
 "cells": [
  {
   "cell_type": "markdown",
   "metadata": {},
   "source": [
    "# Flask"
   ]
  },
  {
   "cell_type": "code",
   "execution_count": null,
   "metadata": {
    "collapsed": true
   },
   "outputs": [],
   "source": [
    "%%writefile simple_flask.py\n",
    "\n",
    "from flask import Flask\n",
    "app = Flask(__name__)\n",
    " \n",
    "@app.route(\"/\")\n",
    "def hello():\n",
    "    return \"Hello World!\"\n",
    " \n",
    "if __name__ == \"__main__\":\n",
    "    app.run()\n",
    "    \n",
    "#Теперь нужно запустить, через python simple_flask.py"
   ]
  },
  {
   "cell_type": "code",
   "execution_count": null,
   "metadata": {
    "collapsed": true
   },
   "outputs": [],
   "source": [
    "%%writefile  simple_flask.py\n",
    "\n",
    "from flask import Flask\n",
    "app = Flask(__name__)\n",
    " \n",
    "@app.route(\"/\")\n",
    "def hello():\n",
    "    return \"Hello World!\"\n",
    "\n",
    "@app.route(\"/members/<string:name>/\")\n",
    "def getMember(name):\n",
    "    return name\n",
    "\n",
    "if __name__ == \"__main__\":\n",
    "    app.run()\n",
    "#Теперь нужно запустить, через python simple_flask.py"
   ]
  },
  {
   "cell_type": "markdown",
   "metadata": {},
   "source": [
    "# Парсинг"
   ]
  },
  {
   "cell_type": "code",
   "execution_count": null,
   "metadata": {
    "collapsed": false
   },
   "outputs": [],
   "source": [
    "!pip install requests bs4 user_agent selenium"
   ]
  },
  {
   "cell_type": "code",
   "execution_count": null,
   "metadata": {
    "collapsed": true
   },
   "outputs": [],
   "source": [
    "import requests\n",
    "from bs4 import BeautifulSoup\n",
    "import json\n",
    "import re"
   ]
  },
  {
   "cell_type": "code",
   "execution_count": null,
   "metadata": {
    "collapsed": true
   },
   "outputs": [],
   "source": [
    "#Сделаем простой запрос, получим страничку с ленты\n",
    "r = requests.get(\"https://lenta.ru/2018/06/16/\")\n",
    "print(r.ok)\n",
    "print(r.status_code)\n",
    "print(r.cookies)"
   ]
  },
  {
   "cell_type": "code",
   "execution_count": null,
   "metadata": {
    "collapsed": true
   },
   "outputs": [],
   "source": [
    "print(r.text)"
   ]
  },
  {
   "cell_type": "code",
   "execution_count": null,
   "metadata": {
    "collapsed": true
   },
   "outputs": [],
   "source": [
    "#Попробуем запросить несуществующую страницу\n",
    "r = requests.get(\"https://lenta.ru/2018/10/32/\")\n",
    "print(r.ok)\n",
    "print(r.status_code)\n",
    "print(r.cookies)"
   ]
  },
  {
   "cell_type": "code",
   "execution_count": null,
   "metadata": {
    "collapsed": true
   },
   "outputs": [],
   "source": [
    "#TODO загрузите основную страницу техноатома"
   ]
  },
  {
   "cell_type": "code",
   "execution_count": null,
   "metadata": {
    "collapsed": true
   },
   "outputs": [],
   "source": [
    "#Создаем элемент типа soup\n",
    "r = requests.get(\"https://lenta.ru/2018/06/16/\")\n",
    "soup = BeautifulSoup(r.text, \"html.parser\")"
   ]
  },
  {
   "cell_type": "code",
   "execution_count": null,
   "metadata": {
    "collapsed": true
   },
   "outputs": [],
   "source": [
    "#Посмотрим на атрибуты\n",
    "print(soup.attrs)"
   ]
  },
  {
   "cell_type": "code",
   "execution_count": null,
   "metadata": {
    "collapsed": true,
    "scrolled": true
   },
   "outputs": [],
   "source": [
    "#Найдем элементы в теге div. При этом будут найдены все теги, любой вложенности\n",
    "print(soup.find_all('div')[0])"
   ]
  },
  {
   "cell_type": "code",
   "execution_count": null,
   "metadata": {
    "collapsed": true
   },
   "outputs": [],
   "source": [
    "print(soup.find_all('div')[0].attrs)"
   ]
  },
  {
   "cell_type": "code",
   "execution_count": null,
   "metadata": {
    "collapsed": true
   },
   "outputs": [],
   "source": [
    "#Найдем все элементы под тегом div, у которых атрибут класс:titles\n",
    "soup.findAll(\"div\", attrs={\"class\": [\"titles\"]})"
   ]
  },
  {
   "cell_type": "code",
   "execution_count": null,
   "metadata": {
    "collapsed": true
   },
   "outputs": [],
   "source": [
    "print(soup.findAll(\"div\", attrs={\"class\": [\"titles\"]})[0])\n",
    "print()\n",
    "print(soup.findAll(\"div\", attrs={\"class\": [\"titles\"]})[0].find('a'))\n",
    "print()\n",
    "print(soup.findAll(\"div\", attrs={\"class\": [\"titles\"]})[0].find('a').attrs)\n",
    "print()\n",
    "print(soup.findAll(\"div\", attrs={\"class\": [\"titles\"]})[0].find('a')['href'])\n",
    "print()\n",
    "print(soup.findAll(\"div\", attrs={\"class\": [\"titles\"]})[0].find('a').text)"
   ]
  },
  {
   "cell_type": "code",
   "execution_count": null,
   "metadata": {
    "collapsed": true
   },
   "outputs": [],
   "source": [
    "#TODO сохранить все ссылки в словарь вида: {href: title}"
   ]
  },
  {
   "cell_type": "code",
   "execution_count": null,
   "metadata": {
    "collapsed": true
   },
   "outputs": [],
   "source": [
    "def get_product_info_avito(url):\n",
    "    product_page = requests.get(url)\n",
    "    soup = BeautifulSoup(product_page.text, \"html.parser\")\n",
    "    title = re.findall(r\"(?=content=\\\"([^\\\"]*)\\\")\",\n",
    "                       str(soup.find(\"meta\", attrs={\"name\":\"mrc__share_title\"})), re.UNICODE)[0]\n",
    "    if title.startswith(u\"Объявление на Avito -\"):\n",
    "        title = title[21:]\n",
    "    descr = re.findall(r\"(?=content=\\\"([^\\\"]*)\\\")\",\n",
    "                       str(soup.find(\"meta\", attrs={\"name\":\"mrc__share_description\"})), re.UNICODE)[0]\n",
    "    return url, title, descr\n",
    "\n",
    "def get_smilar_avito(url):\n",
    "    headers = {u\"accept\": u\"*/*\", u\"accept-encoding\": u\"gzip, deflate, br\",\n",
    "           u\"accept-language\": u\"ru-RU,ru;q=0.9,en-US;q=0.8,en;q=0.7\",\n",
    "           u\"cookie\": u\"u=26m3i302.1fc6nq6.flumvzf17n; buyer_location_id=637640; abp=1; _ga=GA1.2.1386374517.1519811174; _vwo_uuid_v2=D5AF40B1213C5F49AEE8A45D8584418ED|06e85eceee6cdc4810096a7268f54acb; cto_lwid=85c9fbb1-8918-4cc4-a91d-2a757134e844; _vis_opt_s=1%7C; _vis_opt_test_cookie=1; _ym_uid=1519811174428571120; _vwo_uuid=D5AF40B1213C5F49AEE8A45D8584418ED; __gads=ID=c16722fa56933ba1:T=1519811174:S=ALNI_MYLAba7KfXbX-Amt7ypPSVfyyTdzA; _vis_opt_exp_46_exclude=1; __utma=99926606.1386374517.1519811174.1521126280.1521126280.1; __utmc=99926606; __utmz=99926606.1521126280.1.1.utmcsr=(direct)|utmccn=(direct)|utmcmd=(none); dfp_group=52; _vwo_ds=3%3Aa_0%2Ct_0%3A0%241526386623%3A47.11855471%3A%3A%3A18_0%2C12_0; sessid=bbc4979ea3347bd02e9b3ed7349589c7.1527492578; _gid=GA1.2.91958680.1527492579; _ym_isad=1; f=5.673c10cb09ba31f34b5abdd419952845a68643d4d8df96e9a68643d4d8df96e9a68643d4d8df96e9ba029cd346349f36c1e8912fd5a48d02c1e8912fd5a48d02c1e8912fd5a48d02c1e8912fd5a48d02c1e8912fd5a48d02c1e8912fd5a48d0246b8ae4e81acb9fa143114829cf33ca746b8ae4e81acb9fa46b8ae4e81acb9fae992ad2cc54b8aa82351fe598a5894ec615ab5228c34303140e3fb81381f3591fed88e598638463b2da10fb74cac1eab2da10fb74cac1eab2da10fb74cac1eab2da10fb74cac1eab2da10fb74cac1eab2da10fb74cac1eab2da10fb74cac1eab2da10fb74cac1eab2da10fb74cac1eab2da10fb74cac1eab2da10fb74cac1eab2da10fb74cac1eabc6c679871524fbf7ddc1bb7967f85dcbbd0ca7a45a8813cec5b922a937441bee49f5ff0743e01b943fdc85926d4eb0def5a18441d6f5f811652c8d9bab9891ff60768b50dd5e12c36a95541ff881623729cd2db18e763082465d5650ed2fd5c1685428d00dc691fa9e82118971f2ed6494d66450ac1e729244734ef48a8669163de19da9ed218fe23de19da9ed218fe2da5ad592e16af4d7e45e6a89df371af55cc35db011f710a1998c47e34a42c61a; _vis_opt_exp_74_exclude=1; _vis_opt_exp_71_exclude=1; _vis_opt_exp_69_exclude=1; v=1527504434; nps_sleep=1; sx=H4sIAAAAAAACA53PUW7CMAyA4bv4mQcndcHtbTYnBMkBb%2FXaVKDenTJp0p65wPfrf8BAOFzmPNVZBBs5o6ApFYPxAQuM0E3f%2BJPz2iVUNhZWdSVmc1FuBQ6QYQx9PPUc%2Bxi2A8T1g76W83W9XZ0EtTibtqL6HkkvcpbAHd5iUkLWgu5SmjX%2FI2v4rCWJ1DvRPqFY0Hy39jY2b%2F%2FIAbn7JZeUZUp1rkcjdTHCpk5vkTEMtG1PS1Phf00BAAA%3D; isHeartsEnabled=0; _nfh=3cef57cbf431e38a89658bc44a326af9; _gat_UA-2546784-1=1\",\n",
    "           u\"referer\": url,\n",
    "           u\"user-agent\": \"Mozilla/5.0 (X11; Linux x86_64) AppleWebKit/537.36 (KHTML, like Gecko) Chrome/66.0.3359.181 Safari/537.36\",\n",
    "           u\"x-requested-with\": \"XMLHttpRequest\"}\n",
    "    pr_id = url.split(\"_\")[-1]\n",
    "    similars = requests.get(\"https://www.avito.ru/js/similar/\" + pr_id + \"?offset=0\", headers=headers)\n",
    "    sim_urls = []\n",
    "    for i, json_part in enumerate(similars.json()['similarsJson']):\n",
    "        sim_urls.append([url, i, \"https://www.avito.ru\" + json_part['url']])\n",
    "    return sim_urls"
   ]
  },
  {
   "cell_type": "code",
   "execution_count": null,
   "metadata": {
    "collapsed": true
   },
   "outputs": [],
   "source": [
    "#TODO Попробовать загрузить похожие и информацию об 1 продукте с авито"
   ]
  },
  {
   "cell_type": "code",
   "execution_count": null,
   "metadata": {
    "collapsed": true
   },
   "outputs": [],
   "source": [
    "#Создадим список проксей и проверим их доступность\n",
    "\n",
    "from user_agent import generate_user_agent\n",
    "from time import sleep\n",
    "import numpy as np\n",
    "import requests\n",
    "\n",
    "proxies_list = [{'http':'http://'+i} for i in ['67.149.217.254:10200',\n",
    "                '64.20.74.24:45554','62.37.237.101:8080',\n",
    "                '180.234.206.77:8080',\n",
    "                '78.11.85.13:8080','109.188.81.101:8080',\n",
    "                '139.59.17.113:8080','191.179.147.46:11421',\n",
    "                '111.68.99.42:8080','80.241.219.66:3128',\n",
    "                '201.20.94.106:8080','216.229.120.173:45554',\n",
    "                '116.58.247.31:3128','103.9.115.142:3128',\n",
    "                '82.164.99.193:10200','80.188.79.138:8080',\n",
    "                '36.75.113.224:8080',\n",
    "                '1.20.204.163:8080','97.77.49.151:45554',\n",
    "                '178.54.44.24:8080',\n",
    "                '65.182.136.153:45554', '111.76.129.223:808',\n",
    "                 '203.142.81.205'+':'+'8080', \n",
    "                '42.202.35.185'+':'+'8118', '189.16.249.114'+':'+'8080',\n",
    "                '66.162.122.24'+':'+'8080']]\n",
    "\n",
    "for i in range(len(proxies_list)):\n",
    "    sleep(np.random.random())\n",
    "    assert 200 == requests.get('https://yandex.ru', \n",
    "                               headers={'User-Agent': generate_user_agent()},\n",
    "                               proxies=proxies_list[i]).status_code\n",
    "print ('all_proxies_are_worked!\\n\\n')"
   ]
  },
  {
   "cell_type": "code",
   "execution_count": null,
   "metadata": {
    "collapsed": true
   },
   "outputs": [],
   "source": [
    "def get_proxy():\n",
    "    return proxies_list[np.random.randint(0, len(proxies_list))]\n",
    "\n",
    "#TODO сделаем декоратор, который будет генерировать случайную задержку на исполнение функции\n",
    "def delay_decorator(func):\n",
    "    return\n",
    "\n",
    "#TODO Модернизируем функцию, которая парсит похожие. Будем генерировать user-agent, не будем передавать cookies\n",
    "#используем случайный прокси сервер. Обернем в декоратор задержки\n",
    "def get_smilar_avito(url):\n",
    "    return\n",
    "\n"
   ]
  },
  {
   "cell_type": "code",
   "execution_count": null,
   "metadata": {
    "collapsed": false
   },
   "outputs": [],
   "source": [
    "#Скачаем и разархивируем драйвер для гугл хрома https://chromedriver.storage.googleapis.com/index.html?path=2.43/\n",
    "#Или firefox https://github.com/mozilla/geckodriver/releases\n",
    "\n",
    "import pandas as pd\n",
    "import selenium\n",
    "\n",
    "from selenium.webdriver import Chrome\n",
    "from selenium.webdriver.common.keys import Keys\n",
    "from selenium.common.exceptions import NoSuchElementException, WebDriverException\n",
    "\n",
    "from time import sleep"
   ]
  },
  {
   "cell_type": "code",
   "execution_count": null,
   "metadata": {
    "collapsed": true
   },
   "outputs": [],
   "source": [
    "browser = Chrome(executable_path=\"chromedriver\")\n",
    "browser.get('https://www.google.com/')\n",
    "\n",
    "search_form = browser.find_element_by_name('q')\n",
    "search_form.send_keys(\"в контакте\")\n",
    "search_form.send_keys(Keys.ENTER)"
   ]
  },
  {
   "cell_type": "code",
   "execution_count": null,
   "metadata": {
    "collapsed": false
   },
   "outputs": [],
   "source": [
    "#TODO Загрузить эксельку в pd.DataFrame\n",
    "data = \n",
    "href = {}\n",
    "data.head()"
   ]
  },
  {
   "cell_type": "code",
   "execution_count": null,
   "metadata": {
    "collapsed": false
   },
   "outputs": [],
   "source": [
    "name = data.loc[0, 'Short Name']\n",
    "\n",
    "browser = Chrome(executable_path=\"chromedriver\")\n",
    "\n",
    "browser.get('https://finance.yahoo.com/quote/BAB?p=BAB&.tsrc=fin-srch-v1')\n",
    "search_form = browser.find_element_by_xpath('''//*[@id=\"fin-srch-assist\"]/input''')\n",
    "search_form.send_keys(name)\n",
    "search_form.send_keys(Keys.ENTER)\n",
    "time.sleep(2)\n",
    "\n",
    "\n",
    "sleep(2)\n",
    "target_place = browser.find_element_by_xpath('''//*[@id=\"lookup-page\"]/section/div/div/div/div/table/tbody/tr[1]/td[1]/a''')\n",
    "target_place.click()\n",
    "\n",
    "sleep(2)\n",
    "history_place = browser.find_element_by_xpath('''//*[@id=\"quote-nav\"]/ul/li[9]/a/span''')\n",
    "history_place.click()\n",
    "        \n",
    "sleep(2)\n",
    "dates = browser.find_element_by_xpath('''//*[@id=\"Col1-1-HistoricalDataTable-Proxy\"]/section/div[1]/div[1]/div[1]/span[2]/span/input''')\n",
    "dates.click()\n",
    "\n",
    "sleep(1)\n",
    "max_ts = browser.find_element_by_xpath('''//*[@id=\"Col1-1-HistoricalDataTable-Proxy\"]/section/div[1]/div[1]/div[1]/span[2]/div/div[1]/span[8]/span''')\n",
    "max_ts.click()\n",
    "\n",
    "sleep(1)\n",
    "done = browser.find_element_by_xpath('''//*[@id=\"Col1-1-HistoricalDataTable-Proxy\"]/section/div[1]/div[1]/div[1]/span[2]/div/div[3]/button[1]/span''')\n",
    "done.click()\n",
    "\n",
    "sleep(1)\n",
    "apply = browser.find_element_by_xpath('''//*[@id=\"Col1-1-HistoricalDataTable-Proxy\"]/section/div[1]/div[1]/button/span''')\n",
    "apply.click()\n",
    "result = browser.find_element_by_xpath('''//*[@id=\"Col1-1-HistoricalDataTable-Proxy\"]/section/div[1]/div[2]/span[2]/a''')\n",
    "href[name] = result.get_attribute(\"href\")"
   ]
  },
  {
   "cell_type": "code",
   "execution_count": null,
   "metadata": {
    "collapsed": true
   },
   "outputs": [],
   "source": [
    "#TODO Завернуть в функцию, которая парсит ShortName из data. Формируем dict href"
   ]
  },
  {
   "cell_type": "code",
   "execution_count": null,
   "metadata": {
    "collapsed": true
   },
   "outputs": [],
   "source": [
    "#TODO Давайте спарсим выдачу Яндекса (1 страницу) на запрос по вашему Имени Фамилии"
   ]
  }
 ],
 "metadata": {
  "anaconda-cloud": {},
  "kernelspec": {
   "display_name": "Python [default]",
   "language": "python",
   "name": "python3"
  },
  "language_info": {
   "codemirror_mode": {
    "name": "ipython",
    "version": 3
   },
   "file_extension": ".py",
   "mimetype": "text/x-python",
   "name": "python",
   "nbconvert_exporter": "python",
   "pygments_lexer": "ipython3",
   "version": "3.5.2"
  }
 },
 "nbformat": 4,
 "nbformat_minor": 2
}
